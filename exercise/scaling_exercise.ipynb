{
 "cells": [
  {
   "cell_type": "markdown",
   "id": "52fade10",
   "metadata": {},
   "source": [
    "# 위스콘신 유방암 데이터셋\n",
    "- 위스콘신 대학교에서 제공한 유방암 진단결과 데이터\n",
    "- 암측정값들, 진단결과 컬럼들로 구성\n",
    "    - 모든 Feature들은 연속형(continous)이다.\n",
    "- Scikit-learn에서 toy dataset으로 제공한다. \n",
    "    - load_breast_cancer() 함수 이용\n",
    "- StandardScaler와 MinMax Scaler를 이용해 Feature Scaling 위스콘신 유방암 데이터셋의 Feature들을 처리를 한다.\n",
    "- StandardScaler\n",
    "    - X_train_scaled1, X_val_scaled1, X_test_scaled1\n",
    "- MinMaxScaler    \n",
    "    - X_train_scaled2, X_val_scaled2, X_test_scaled2"
   ]
  },
  {
   "cell_type": "code",
   "execution_count": 4,
   "id": "76227c22",
   "metadata": {
    "ExecuteTime": {
     "end_time": "2021-11-12T03:19:52.245822Z",
     "start_time": "2021-11-12T03:19:51.828411Z"
    }
   },
   "outputs": [
    {
     "data": {
      "text/plain": [
       "dict_keys(['data', 'target', 'frame', 'target_names', 'DESCR', 'feature_names', 'filename', 'data_module'])"
      ]
     },
     "execution_count": 4,
     "metadata": {},
     "output_type": "execute_result"
    }
   ],
   "source": [
    "from sklearn.datasets import load_breast_cancer\n",
    "from sklearn.model_selection import train_test_split\n",
    "data = load_breast_cancer()\n",
    "data.keys()"
   ]
  },
  {
   "cell_type": "code",
   "execution_count": 5,
   "id": "24118246",
   "metadata": {
    "ExecuteTime": {
     "end_time": "2021-11-12T03:19:52.276963Z",
     "start_time": "2021-11-12T03:19:52.263764Z"
    }
   },
   "outputs": [
    {
     "data": {
      "text/plain": [
       "array(['malignant', 'benign'], dtype='<U9')"
      ]
     },
     "execution_count": 5,
     "metadata": {},
     "output_type": "execute_result"
    }
   ],
   "source": [
    "data.target_names"
   ]
  },
  {
   "cell_type": "code",
   "execution_count": 6,
   "id": "6d1a5f19",
   "metadata": {
    "ExecuteTime": {
     "end_time": "2021-11-12T03:19:52.478876Z",
     "start_time": "2021-11-12T03:19:52.467877Z"
    }
   },
   "outputs": [
    {
     "data": {
      "text/plain": [
       "array(['mean radius', 'mean texture', 'mean perimeter', 'mean area',\n",
       "       'mean smoothness', 'mean compactness', 'mean concavity',\n",
       "       'mean concave points', 'mean symmetry', 'mean fractal dimension',\n",
       "       'radius error', 'texture error', 'perimeter error', 'area error',\n",
       "       'smoothness error', 'compactness error', 'concavity error',\n",
       "       'concave points error', 'symmetry error',\n",
       "       'fractal dimension error', 'worst radius', 'worst texture',\n",
       "       'worst perimeter', 'worst area', 'worst smoothness',\n",
       "       'worst compactness', 'worst concavity', 'worst concave points',\n",
       "       'worst symmetry', 'worst fractal dimension'], dtype='<U23')"
      ]
     },
     "execution_count": 6,
     "metadata": {},
     "output_type": "execute_result"
    }
   ],
   "source": [
    "data.feature_names"
   ]
  },
  {
   "cell_type": "markdown",
   "id": "7587fbd5",
   "metadata": {},
   "source": [
    "##### 데이터 나누기"
   ]
  },
  {
   "cell_type": "code",
   "execution_count": 7,
   "id": "69f2c015",
   "metadata": {
    "ExecuteTime": {
     "end_time": "2021-11-12T03:28:25.518773Z",
     "start_time": "2021-11-12T03:28:25.506794Z"
    },
    "collapsed": true
   },
   "outputs": [
    {
     "data": {
      "text/plain": [
       "array([[1.799e+01, 1.038e+01, 1.228e+02, ..., 2.654e-01, 4.601e-01,\n",
       "        1.189e-01],\n",
       "       [2.057e+01, 1.777e+01, 1.329e+02, ..., 1.860e-01, 2.750e-01,\n",
       "        8.902e-02],\n",
       "       [1.969e+01, 2.125e+01, 1.300e+02, ..., 2.430e-01, 3.613e-01,\n",
       "        8.758e-02],\n",
       "       ...,\n",
       "       [1.660e+01, 2.808e+01, 1.083e+02, ..., 1.418e-01, 2.218e-01,\n",
       "        7.820e-02],\n",
       "       [2.060e+01, 2.933e+01, 1.401e+02, ..., 2.650e-01, 4.087e-01,\n",
       "        1.240e-01],\n",
       "       [7.760e+00, 2.454e+01, 4.792e+01, ..., 0.000e+00, 2.871e-01,\n",
       "        7.039e-02]])"
      ]
     },
     "execution_count": 7,
     "metadata": {},
     "output_type": "execute_result"
    }
   ],
   "source": [
    "data.data"
   ]
  },
  {
   "cell_type": "code",
   "execution_count": 25,
   "id": "13a5b644",
   "metadata": {
    "ExecuteTime": {
     "end_time": "2021-11-12T05:15:57.095084Z",
     "start_time": "2021-11-12T05:15:57.074583Z"
    }
   },
   "outputs": [
    {
     "name": "stdout",
     "output_type": "stream",
     "text": [
      "(364, 30) (91, 30) (114, 30)\n"
     ]
    }
   ],
   "source": [
    "from sklearn.model_selection import train_test_split\n",
    "\n",
    "# train/test 분리 => 전체에서 test set 분리\n",
    "X_train, X_test, y_train, y_test = train_test_split(data.data, data.target,\n",
    "                                                   test_size=0.2, random_state=0,\n",
    "                                                   stratify=data.target)\n",
    "\n",
    "X_train, X_val, y_train, y_val = train_test_split(X_train, y_train,\n",
    "                                                  test_size=0.2, random_state=0,\n",
    "                                                  stratify=y_train)\n",
    "print(X_train.shape, X_validation.shape, X_test.shape)"
   ]
  },
  {
   "cell_type": "markdown",
   "id": "59c7daf9",
   "metadata": {
    "ExecuteTime": {
     "end_time": "2021-11-12T03:16:16.738426Z",
     "start_time": "2021-11-12T03:16:16.722496Z"
    }
   },
   "source": [
    "##### scaling 처리\n",
    " - train set으로 fit 한 모델을 이용해 train/validation/test set 을 변환한다.\n",
    " \n",
    "##### 표준화"
   ]
  },
  {
   "cell_type": "code",
   "execution_count": 16,
   "id": "dabb361d",
   "metadata": {
    "ExecuteTime": {
     "end_time": "2021-11-12T03:46:19.497745Z",
     "start_time": "2021-11-12T03:46:19.491762Z"
    }
   },
   "outputs": [],
   "source": [
    "import numpy as np\n",
    "from sklearn.preprocessing import StandardScaler\n",
    "\n",
    "s_scaler = StandardScaler()\n",
    "X_train_scaled1 = s_scaler.fit_transform(X_train)\n",
    "X_val_scaled1 = s_scaler.transform(X_val)\n",
    "X_test_scaled1 = s_scaler.transform(X_test)"
   ]
  },
  {
   "cell_type": "markdown",
   "id": "416ed6a7",
   "metadata": {
    "ExecuteTime": {
     "end_time": "2021-11-12T03:16:16.910236Z",
     "start_time": "2021-11-12T03:16:16.899266Z"
    }
   },
   "source": [
    "##### 확인\n",
    "- 평균, 표준편차 확인"
   ]
  },
  {
   "cell_type": "code",
   "execution_count": 17,
   "id": "b67283fa",
   "metadata": {
    "ExecuteTime": {
     "end_time": "2021-11-12T03:46:51.393307Z",
     "start_time": "2021-11-12T03:46:51.379346Z"
    }
   },
   "outputs": [
    {
     "data": {
      "text/plain": [
       "array([ 14.,  19.,  92., 661.,   0.,   0.,   0.,   0.,   0.,   0.,   0.,\n",
       "         1.,   3.,  40.,   0.,   0.,   0.,   0.,   0.,   0.,  16.,  26.,\n",
       "       108., 888.,   0.,   0.,   0.,   0.,   0.,   0.])"
      ]
     },
     "execution_count": 17,
     "metadata": {},
     "output_type": "execute_result"
    }
   ],
   "source": [
    "np.round(np.mean(X_train, axis=0))"
   ]
  },
  {
   "cell_type": "code",
   "execution_count": 18,
   "id": "5d51f332",
   "metadata": {
    "ExecuteTime": {
     "end_time": "2021-11-12T03:47:56.178188Z",
     "start_time": "2021-11-12T03:47:56.164166Z"
    }
   },
   "outputs": [
    {
     "data": {
      "text/plain": [
       "array([-0., -0., -0.,  0., -0.,  0.,  0., -0., -0.,  0., -0.,  0., -0.,\n",
       "        0.,  0., -0.,  0., -0., -0.,  0., -0., -0., -0.,  0.,  0.,  0.,\n",
       "        0., -0.,  0., -0.])"
      ]
     },
     "execution_count": 18,
     "metadata": {},
     "output_type": "execute_result"
    }
   ],
   "source": [
    "np.round(np.mean(X_train_scaled1, axis=0))"
   ]
  },
  {
   "cell_type": "markdown",
   "id": "e991f1f8",
   "metadata": {
    "ExecuteTime": {
     "end_time": "2021-11-12T03:16:17.127790Z",
     "start_time": "2021-11-12T03:16:17.122774Z"
    }
   },
   "source": [
    "##### MinMax Scaling"
   ]
  },
  {
   "cell_type": "code",
   "execution_count": 21,
   "id": "075b2149",
   "metadata": {
    "ExecuteTime": {
     "end_time": "2021-11-12T03:50:02.109732Z",
     "start_time": "2021-11-12T03:50:02.099790Z"
    }
   },
   "outputs": [],
   "source": [
    "from sklearn.preprocessing import MinMaxScaler\n",
    "mm_scaler = MinMaxScaler()\n",
    "X_train_scaled2 = mm_scaler.fit_transform(X_train)\n",
    "X_val_scaled2 = mm_scaler.fit_transform(X_val)\n",
    "X_test_scaled2 = mm_scaler.transform(X_test)"
   ]
  },
  {
   "cell_type": "markdown",
   "id": "599a0b8b",
   "metadata": {},
   "source": [
    "##### 확인\n",
    "- min, max값 확인"
   ]
  },
  {
   "cell_type": "code",
   "execution_count": 24,
   "id": "aa3f6fed",
   "metadata": {
    "ExecuteTime": {
     "end_time": "2021-11-12T03:50:50.434701Z",
     "start_time": "2021-11-12T03:50:50.419765Z"
    }
   },
   "outputs": [
    {
     "name": "stdout",
     "output_type": "stream",
     "text": [
      "[0. 0. 0. 0. 0. 0. 0. 0. 0. 0. 0. 0. 0. 0. 0. 0. 0. 0. 0. 0. 0. 0. 0. 0.\n",
      " 0. 0. 0. 0. 0. 0.]\n",
      "[1. 1. 1. 1. 1. 1. 1. 1. 1. 1. 1. 1. 1. 1. 1. 1. 1. 1. 1. 1. 1. 1. 1. 1.\n",
      " 1. 1. 1. 1. 1. 1.]\n"
     ]
    }
   ],
   "source": [
    "print(np.min(X_train_scaled2, axis=0))\n",
    "print(np.max(X_train_scaled2, axis=0))"
   ]
  }
 ],
 "metadata": {
  "kernelspec": {
   "display_name": "Python 3 (ipykernel)",
   "language": "python",
   "name": "python3"
  },
  "language_info": {
   "codemirror_mode": {
    "name": "ipython",
    "version": 3
   },
   "file_extension": ".py",
   "mimetype": "text/x-python",
   "name": "python",
   "nbconvert_exporter": "python",
   "pygments_lexer": "ipython3",
   "version": "3.8.12"
  },
  "toc": {
   "base_numbering": 1,
   "nav_menu": {},
   "number_sections": true,
   "sideBar": true,
   "skip_h1_title": false,
   "title_cell": "Table of Contents",
   "title_sidebar": "Contents",
   "toc_cell": false,
   "toc_position": {},
   "toc_section_display": true,
   "toc_window_display": false
  },
  "varInspector": {
   "cols": {
    "lenName": 16,
    "lenType": 16,
    "lenVar": 40
   },
   "kernels_config": {
    "python": {
     "delete_cmd_postfix": "",
     "delete_cmd_prefix": "del ",
     "library": "var_list.py",
     "varRefreshCmd": "print(var_dic_list())"
    },
    "r": {
     "delete_cmd_postfix": ") ",
     "delete_cmd_prefix": "rm(",
     "library": "var_list.r",
     "varRefreshCmd": "cat(var_dic_list()) "
    }
   },
   "types_to_exclude": [
    "module",
    "function",
    "builtin_function_or_method",
    "instance",
    "_Feature"
   ],
   "window_display": false
  }
 },
 "nbformat": 4,
 "nbformat_minor": 5
}
