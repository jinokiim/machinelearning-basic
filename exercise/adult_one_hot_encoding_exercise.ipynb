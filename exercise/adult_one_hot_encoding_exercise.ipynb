{
 "cells": [
  {
   "cell_type": "markdown",
   "id": "0739f682",
   "metadata": {},
   "source": [
    "# TODO: adult dataset에 one-hot encoding 적용\n",
    "- 범주형: 'workclass','education', 'education-num', 'marital-status', 'occupation','relationship', 'race', 'gender', 'native-country', 'income'\n",
    "- 연속형: 'age', fnlwgt', 'capital-gain', 'capital-loss', 'hours-per-week'\n",
    "- **위 Feature 중 'age', 'workclass','education', 'occupation', 'gender', 'hours-per-week' 만 사용한다.**\n",
    "- 범주형 Feature중 **income은 출력 데이터이므로 Label Encoding 처리**를 한다.\n",
    "- 나머지 범주형Feature들은 One-hot encoding 처리한다."
   ]
  },
  {
   "cell_type": "markdown",
   "id": "cf45f6c4",
   "metadata": {},
   "source": [
    "1. DataSet 읽기\n",
    "\n",
    "2. 결측치 처리 (제거)\n",
    "\n",
    "3. One hot encoding\n",
    "\n",
    "4. 모델링\n",
    "    - Train/Test set 분리\n",
    "    - 모델 생성\n",
    "    - 학습\n",
    "    - 검증"
   ]
  },
  {
   "cell_type": "markdown",
   "id": "ce222815",
   "metadata": {},
   "source": [
    "##### 데이터 로딩"
   ]
  },
  {
   "cell_type": "code",
   "execution_count": 1,
   "id": "f919b794",
   "metadata": {
    "ExecuteTime": {
     "end_time": "2021-11-12T00:22:00.043049Z",
     "start_time": "2021-11-12T00:21:58.677627Z"
    }
   },
   "outputs": [],
   "source": [
    "import pandas as pd\n",
    "import numpy as np"
   ]
  },
  {
   "cell_type": "code",
   "execution_count": 2,
   "id": "c4d799c7",
   "metadata": {
    "ExecuteTime": {
     "end_time": "2021-11-12T00:22:00.074914Z",
     "start_time": "2021-11-12T00:22:00.060063Z"
    }
   },
   "outputs": [],
   "source": [
    "cols = ['age','workclass','fnlwgt','education','education-num','marital-status','occupation','relationship','race','gender','capital-gain','capital-loss','hours-per-week','native-country','income']"
   ]
  },
  {
   "cell_type": "code",
   "execution_count": 3,
   "id": "c671d026",
   "metadata": {
    "ExecuteTime": {
     "end_time": "2021-11-12T00:22:00.170176Z",
     "start_time": "2021-11-12T00:22:00.091900Z"
    }
   },
   "outputs": [
    {
     "data": {
      "text/html": [
       "<div>\n",
       "<style scoped>\n",
       "    .dataframe tbody tr th:only-of-type {\n",
       "        vertical-align: middle;\n",
       "    }\n",
       "\n",
       "    .dataframe tbody tr th {\n",
       "        vertical-align: top;\n",
       "    }\n",
       "\n",
       "    .dataframe thead th {\n",
       "        text-align: right;\n",
       "    }\n",
       "</style>\n",
       "<table border=\"1\" class=\"dataframe\">\n",
       "  <thead>\n",
       "    <tr style=\"text-align: right;\">\n",
       "      <th></th>\n",
       "      <th>age</th>\n",
       "      <th>workclass</th>\n",
       "      <th>fnlwgt</th>\n",
       "      <th>education</th>\n",
       "      <th>education-num</th>\n",
       "      <th>marital-status</th>\n",
       "      <th>occupation</th>\n",
       "      <th>relationship</th>\n",
       "      <th>race</th>\n",
       "      <th>gender</th>\n",
       "      <th>capital-gain</th>\n",
       "      <th>capital-loss</th>\n",
       "      <th>hours-per-week</th>\n",
       "      <th>native-country</th>\n",
       "      <th>income</th>\n",
       "    </tr>\n",
       "  </thead>\n",
       "  <tbody>\n",
       "    <tr>\n",
       "      <th>0</th>\n",
       "      <td>39</td>\n",
       "      <td>State-gov</td>\n",
       "      <td>77516</td>\n",
       "      <td>Bachelors</td>\n",
       "      <td>13</td>\n",
       "      <td>Never-married</td>\n",
       "      <td>Adm-clerical</td>\n",
       "      <td>Not-in-family</td>\n",
       "      <td>White</td>\n",
       "      <td>Male</td>\n",
       "      <td>2174</td>\n",
       "      <td>0</td>\n",
       "      <td>40</td>\n",
       "      <td>United-States</td>\n",
       "      <td>&lt;=50K</td>\n",
       "    </tr>\n",
       "    <tr>\n",
       "      <th>1</th>\n",
       "      <td>50</td>\n",
       "      <td>Self-emp-not-inc</td>\n",
       "      <td>83311</td>\n",
       "      <td>Bachelors</td>\n",
       "      <td>13</td>\n",
       "      <td>Married-civ-spouse</td>\n",
       "      <td>Exec-managerial</td>\n",
       "      <td>Husband</td>\n",
       "      <td>White</td>\n",
       "      <td>Male</td>\n",
       "      <td>0</td>\n",
       "      <td>0</td>\n",
       "      <td>13</td>\n",
       "      <td>United-States</td>\n",
       "      <td>&lt;=50K</td>\n",
       "    </tr>\n",
       "    <tr>\n",
       "      <th>2</th>\n",
       "      <td>38</td>\n",
       "      <td>Private</td>\n",
       "      <td>215646</td>\n",
       "      <td>HS-grad</td>\n",
       "      <td>9</td>\n",
       "      <td>Divorced</td>\n",
       "      <td>Handlers-cleaners</td>\n",
       "      <td>Not-in-family</td>\n",
       "      <td>White</td>\n",
       "      <td>Male</td>\n",
       "      <td>0</td>\n",
       "      <td>0</td>\n",
       "      <td>40</td>\n",
       "      <td>United-States</td>\n",
       "      <td>&lt;=50K</td>\n",
       "    </tr>\n",
       "    <tr>\n",
       "      <th>3</th>\n",
       "      <td>53</td>\n",
       "      <td>Private</td>\n",
       "      <td>234721</td>\n",
       "      <td>11th</td>\n",
       "      <td>7</td>\n",
       "      <td>Married-civ-spouse</td>\n",
       "      <td>Handlers-cleaners</td>\n",
       "      <td>Husband</td>\n",
       "      <td>Black</td>\n",
       "      <td>Male</td>\n",
       "      <td>0</td>\n",
       "      <td>0</td>\n",
       "      <td>40</td>\n",
       "      <td>United-States</td>\n",
       "      <td>&lt;=50K</td>\n",
       "    </tr>\n",
       "    <tr>\n",
       "      <th>4</th>\n",
       "      <td>28</td>\n",
       "      <td>Private</td>\n",
       "      <td>338409</td>\n",
       "      <td>Bachelors</td>\n",
       "      <td>13</td>\n",
       "      <td>Married-civ-spouse</td>\n",
       "      <td>Prof-specialty</td>\n",
       "      <td>Wife</td>\n",
       "      <td>Black</td>\n",
       "      <td>Female</td>\n",
       "      <td>0</td>\n",
       "      <td>0</td>\n",
       "      <td>40</td>\n",
       "      <td>Cuba</td>\n",
       "      <td>&lt;=50K</td>\n",
       "    </tr>\n",
       "  </tbody>\n",
       "</table>\n",
       "</div>"
      ],
      "text/plain": [
       "   age         workclass  fnlwgt  education  education-num  \\\n",
       "0   39         State-gov   77516  Bachelors             13   \n",
       "1   50  Self-emp-not-inc   83311  Bachelors             13   \n",
       "2   38           Private  215646    HS-grad              9   \n",
       "3   53           Private  234721       11th              7   \n",
       "4   28           Private  338409  Bachelors             13   \n",
       "\n",
       "       marital-status         occupation   relationship   race  gender  \\\n",
       "0       Never-married       Adm-clerical  Not-in-family  White    Male   \n",
       "1  Married-civ-spouse    Exec-managerial        Husband  White    Male   \n",
       "2            Divorced  Handlers-cleaners  Not-in-family  White    Male   \n",
       "3  Married-civ-spouse  Handlers-cleaners        Husband  Black    Male   \n",
       "4  Married-civ-spouse     Prof-specialty           Wife  Black  Female   \n",
       "\n",
       "   capital-gain  capital-loss  hours-per-week native-country income  \n",
       "0          2174             0              40  United-States  <=50K  \n",
       "1             0             0              13  United-States  <=50K  \n",
       "2             0             0              40  United-States  <=50K  \n",
       "3             0             0              40  United-States  <=50K  \n",
       "4             0             0              40           Cuba  <=50K  "
      ]
     },
     "execution_count": 3,
     "metadata": {},
     "output_type": "execute_result"
    }
   ],
   "source": [
    "cols = ['age', 'workclass','fnlwgt','education', 'education-num', 'marital-status', 'occupation','relationship', 'race', 'gender','capital-gain','capital-loss', 'hours-per-week','native-country', 'income']\n",
    "df  = pd.read_csv('data/adult.data', \n",
    "                    header=None, \n",
    "                    names=cols, na_values='?',   # '?'는 NA(결측치)\n",
    "                    skipinitialspace=True)\n",
    "df.head()"
   ]
  },
  {
   "cell_type": "markdown",
   "id": "3a2ce88c",
   "metadata": {},
   "source": [
    "##### 결측치 제거 "
   ]
  },
  {
   "cell_type": "code",
   "execution_count": 4,
   "id": "183bac83",
   "metadata": {
    "ExecuteTime": {
     "end_time": "2021-11-12T00:22:00.202154Z",
     "start_time": "2021-11-12T00:22:00.187131Z"
    }
   },
   "outputs": [
    {
     "data": {
      "text/plain": [
       "age                  0\n",
       "workclass         1836\n",
       "fnlwgt               0\n",
       "education            0\n",
       "education-num        0\n",
       "marital-status       0\n",
       "occupation        1843\n",
       "relationship         0\n",
       "race                 0\n",
       "gender               0\n",
       "capital-gain         0\n",
       "capital-loss         0\n",
       "hours-per-week       0\n",
       "native-country     583\n",
       "income               0\n",
       "dtype: int64"
      ]
     },
     "execution_count": 4,
     "metadata": {},
     "output_type": "execute_result"
    }
   ],
   "source": [
    "df.isnull().sum() "
   ]
  },
  {
   "cell_type": "code",
   "execution_count": 5,
   "id": "10e64cbe",
   "metadata": {
    "ExecuteTime": {
     "end_time": "2021-11-12T00:22:00.249982Z",
     "start_time": "2021-11-12T00:22:00.220063Z"
    }
   },
   "outputs": [],
   "source": [
    "df.dropna(inplace=True)"
   ]
  },
  {
   "cell_type": "code",
   "execution_count": 6,
   "id": "3828d2c0",
   "metadata": {
    "ExecuteTime": {
     "end_time": "2021-11-12T00:22:00.281622Z",
     "start_time": "2021-11-12T00:22:00.266438Z"
    },
    "scrolled": true
   },
   "outputs": [
    {
     "data": {
      "text/plain": [
       "age               0\n",
       "workclass         0\n",
       "fnlwgt            0\n",
       "education         0\n",
       "education-num     0\n",
       "marital-status    0\n",
       "occupation        0\n",
       "relationship      0\n",
       "race              0\n",
       "gender            0\n",
       "capital-gain      0\n",
       "capital-loss      0\n",
       "hours-per-week    0\n",
       "native-country    0\n",
       "income            0\n",
       "dtype: int64"
      ]
     },
     "execution_count": 6,
     "metadata": {},
     "output_type": "execute_result"
    }
   ],
   "source": [
    "df.isnull().sum()"
   ]
  },
  {
   "cell_type": "code",
   "execution_count": 7,
   "id": "02adf9e4",
   "metadata": {
    "ExecuteTime": {
     "end_time": "2021-11-12T00:22:00.312738Z",
     "start_time": "2021-11-12T00:22:00.298515Z"
    }
   },
   "outputs": [
    {
     "data": {
      "text/plain": [
       "(30162, 15)"
      ]
     },
     "execution_count": 7,
     "metadata": {},
     "output_type": "execute_result"
    }
   ],
   "source": [
    "df.shape"
   ]
  },
  {
   "cell_type": "markdown",
   "id": "86a898c2",
   "metadata": {},
   "source": [
    "##### 필요한 Feature들만 추출"
   ]
  },
  {
   "cell_type": "code",
   "execution_count": 8,
   "id": "88ae9dc4",
   "metadata": {
    "ExecuteTime": {
     "end_time": "2021-11-12T00:22:00.578520Z",
     "start_time": "2021-11-12T00:22:00.556396Z"
    }
   },
   "outputs": [
    {
     "data": {
      "text/html": [
       "<div>\n",
       "<style scoped>\n",
       "    .dataframe tbody tr th:only-of-type {\n",
       "        vertical-align: middle;\n",
       "    }\n",
       "\n",
       "    .dataframe tbody tr th {\n",
       "        vertical-align: top;\n",
       "    }\n",
       "\n",
       "    .dataframe thead th {\n",
       "        text-align: right;\n",
       "    }\n",
       "</style>\n",
       "<table border=\"1\" class=\"dataframe\">\n",
       "  <thead>\n",
       "    <tr style=\"text-align: right;\">\n",
       "      <th></th>\n",
       "      <th>age</th>\n",
       "      <th>workclass</th>\n",
       "      <th>education</th>\n",
       "      <th>occupation</th>\n",
       "      <th>gender</th>\n",
       "      <th>hours-per-week</th>\n",
       "    </tr>\n",
       "  </thead>\n",
       "  <tbody>\n",
       "    <tr>\n",
       "      <th>0</th>\n",
       "      <td>39</td>\n",
       "      <td>State-gov</td>\n",
       "      <td>Bachelors</td>\n",
       "      <td>Adm-clerical</td>\n",
       "      <td>Male</td>\n",
       "      <td>40</td>\n",
       "    </tr>\n",
       "    <tr>\n",
       "      <th>1</th>\n",
       "      <td>50</td>\n",
       "      <td>Self-emp-not-inc</td>\n",
       "      <td>Bachelors</td>\n",
       "      <td>Exec-managerial</td>\n",
       "      <td>Male</td>\n",
       "      <td>13</td>\n",
       "    </tr>\n",
       "    <tr>\n",
       "      <th>2</th>\n",
       "      <td>38</td>\n",
       "      <td>Private</td>\n",
       "      <td>HS-grad</td>\n",
       "      <td>Handlers-cleaners</td>\n",
       "      <td>Male</td>\n",
       "      <td>40</td>\n",
       "    </tr>\n",
       "    <tr>\n",
       "      <th>3</th>\n",
       "      <td>53</td>\n",
       "      <td>Private</td>\n",
       "      <td>11th</td>\n",
       "      <td>Handlers-cleaners</td>\n",
       "      <td>Male</td>\n",
       "      <td>40</td>\n",
       "    </tr>\n",
       "    <tr>\n",
       "      <th>4</th>\n",
       "      <td>28</td>\n",
       "      <td>Private</td>\n",
       "      <td>Bachelors</td>\n",
       "      <td>Prof-specialty</td>\n",
       "      <td>Female</td>\n",
       "      <td>40</td>\n",
       "    </tr>\n",
       "  </tbody>\n",
       "</table>\n",
       "</div>"
      ],
      "text/plain": [
       "   age         workclass  education         occupation  gender  hours-per-week\n",
       "0   39         State-gov  Bachelors       Adm-clerical    Male              40\n",
       "1   50  Self-emp-not-inc  Bachelors    Exec-managerial    Male              13\n",
       "2   38           Private    HS-grad  Handlers-cleaners    Male              40\n",
       "3   53           Private       11th  Handlers-cleaners    Male              40\n",
       "4   28           Private  Bachelors     Prof-specialty  Female              40"
      ]
     },
     "execution_count": 8,
     "metadata": {},
     "output_type": "execute_result"
    }
   ],
   "source": [
    "c = ['age', 'workclass','education', 'occupation', 'gender', 'hours-per-week']\n",
    "X = df[['age', 'workclass','education', 'occupation', 'gender', 'hours-per-week']]\n",
    "X.head()"
   ]
  },
  {
   "cell_type": "markdown",
   "id": "2428cdb9",
   "metadata": {},
   "source": [
    "##### income(출력데이터): LabelEncoding"
   ]
  },
  {
   "cell_type": "code",
   "execution_count": 9,
   "id": "5776570b",
   "metadata": {
    "ExecuteTime": {
     "end_time": "2021-11-12T00:22:02.402954Z",
     "start_time": "2021-11-12T00:22:00.995964Z"
    }
   },
   "outputs": [
    {
     "data": {
      "text/plain": [
       "array([0, 0, 0, 0, 0, 0, 0, 1, 1, 1])"
      ]
     },
     "execution_count": 9,
     "metadata": {},
     "output_type": "execute_result"
    }
   ],
   "source": [
    "# income만 labelencoding 해서 분리\n",
    "from sklearn.preprocessing import LabelEncoder\n",
    "le = LabelEncoder()\n",
    "y = le.fit_transform(df['income'])\n",
    "y[:10]"
   ]
  },
  {
   "cell_type": "markdown",
   "id": "6527784b",
   "metadata": {},
   "source": [
    "##### 1. pandas get_dummies() 사용해 변환"
   ]
  },
  {
   "cell_type": "code",
   "execution_count": 10,
   "id": "1132a62b",
   "metadata": {
    "ExecuteTime": {
     "end_time": "2021-11-12T00:22:02.465294Z",
     "start_time": "2021-11-12T00:22:02.435925Z"
    }
   },
   "outputs": [
    {
     "data": {
      "text/plain": [
       "(30162, 41)"
      ]
     },
     "execution_count": 10,
     "metadata": {},
     "output_type": "execute_result"
    }
   ],
   "source": [
    "X1 = pd.get_dummies(X)\n",
    "X1.shape"
   ]
  },
  {
   "cell_type": "markdown",
   "id": "750412ec",
   "metadata": {},
   "source": [
    "##### 2. scikit-learn OneHotEncoder 사용"
   ]
  },
  {
   "cell_type": "code",
   "execution_count": 11,
   "id": "6e3ef0e7",
   "metadata": {
    "ExecuteTime": {
     "end_time": "2021-11-12T00:22:02.513086Z",
     "start_time": "2021-11-12T00:22:02.497599Z"
    }
   },
   "outputs": [],
   "source": [
    "from sklearn.preprocessing import OneHotEncoder"
   ]
  },
  {
   "cell_type": "code",
   "execution_count": 12,
   "id": "39f5e233",
   "metadata": {
    "ExecuteTime": {
     "end_time": "2021-11-12T00:22:04.172107Z",
     "start_time": "2021-11-12T00:22:04.141189Z"
    }
   },
   "outputs": [
    {
     "data": {
      "text/plain": [
       "(30162, 39)"
      ]
     },
     "execution_count": 12,
     "metadata": {},
     "output_type": "execute_result"
    }
   ],
   "source": [
    "ohe = OneHotEncoder(sparse=False)\n",
    "r = ohe.fit_transform(X[['workclass','education', 'occupation', 'gender']])\n",
    "r.shape"
   ]
  },
  {
   "cell_type": "code",
   "execution_count": 13,
   "id": "87c69a9f",
   "metadata": {
    "ExecuteTime": {
     "end_time": "2021-11-12T00:22:04.312445Z",
     "start_time": "2021-11-12T00:22:04.301446Z"
    }
   },
   "outputs": [
    {
     "data": {
      "text/plain": [
       "array(['workclass_Federal-gov', 'workclass_Local-gov',\n",
       "       'workclass_Private', 'workclass_Self-emp-inc',\n",
       "       'workclass_Self-emp-not-inc', 'workclass_State-gov',\n",
       "       'workclass_Without-pay', 'education_10th', 'education_11th',\n",
       "       'education_12th', 'education_1st-4th', 'education_5th-6th',\n",
       "       'education_7th-8th', 'education_9th', 'education_Assoc-acdm',\n",
       "       'education_Assoc-voc', 'education_Bachelors',\n",
       "       'education_Doctorate', 'education_HS-grad', 'education_Masters',\n",
       "       'education_Preschool', 'education_Prof-school',\n",
       "       'education_Some-college', 'occupation_Adm-clerical',\n",
       "       'occupation_Armed-Forces', 'occupation_Craft-repair',\n",
       "       'occupation_Exec-managerial', 'occupation_Farming-fishing',\n",
       "       'occupation_Handlers-cleaners', 'occupation_Machine-op-inspct',\n",
       "       'occupation_Other-service', 'occupation_Priv-house-serv',\n",
       "       'occupation_Prof-specialty', 'occupation_Protective-serv',\n",
       "       'occupation_Sales', 'occupation_Tech-support',\n",
       "       'occupation_Transport-moving', 'gender_Female', 'gender_Male'],\n",
       "      dtype=object)"
      ]
     },
     "execution_count": 13,
     "metadata": {},
     "output_type": "execute_result"
    }
   ],
   "source": [
    "ohe.get_feature_names_out()"
   ]
  },
  {
   "cell_type": "code",
   "execution_count": 14,
   "id": "d2f38ca6",
   "metadata": {
    "ExecuteTime": {
     "end_time": "2021-11-12T00:22:04.483080Z",
     "start_time": "2021-11-12T00:22:04.477096Z"
    }
   },
   "outputs": [],
   "source": [
    "# .values => numpy 배열로 변경\n",
    "c_v = df[['age', 'hours-per-week']].values"
   ]
  },
  {
   "cell_type": "code",
   "execution_count": 15,
   "id": "803f4cb4",
   "metadata": {
    "ExecuteTime": {
     "end_time": "2021-11-12T00:22:04.639939Z",
     "start_time": "2021-11-12T00:22:04.620963Z"
    }
   },
   "outputs": [
    {
     "data": {
      "text/plain": [
       "(numpy.ndarray, numpy.ndarray)"
      ]
     },
     "execution_count": 15,
     "metadata": {},
     "output_type": "execute_result"
    }
   ],
   "source": [
    "type(r), type(c_v)"
   ]
  },
  {
   "cell_type": "markdown",
   "id": "19f24fad",
   "metadata": {},
   "source": [
    "###### onehot encoding 된 feature들과 나머지 feature 합치기"
   ]
  },
  {
   "cell_type": "code",
   "execution_count": 16,
   "id": "8070c011",
   "metadata": {
    "ExecuteTime": {
     "end_time": "2021-11-12T00:22:04.984755Z",
     "start_time": "2021-11-12T00:22:04.973812Z"
    }
   },
   "outputs": [
    {
     "data": {
      "text/plain": [
       "(30162, 41)"
      ]
     },
     "execution_count": 16,
     "metadata": {},
     "output_type": "execute_result"
    }
   ],
   "source": [
    "X2 = np.concatenate([c_v, r], axis=1)   # ndarray 를 합칠땐 concatenate\n",
    "X2.shape"
   ]
  },
  {
   "cell_type": "markdown",
   "id": "8d97d72c",
   "metadata": {},
   "source": [
    "### 모델 학습"
   ]
  },
  {
   "cell_type": "code",
   "execution_count": 17,
   "id": "9e4d3660",
   "metadata": {
    "ExecuteTime": {
     "end_time": "2021-11-12T00:32:31.350684Z",
     "start_time": "2021-11-12T00:32:31.341738Z"
    }
   },
   "outputs": [],
   "source": [
    "# X1, y\n",
    "# X2, y"
   ]
  },
  {
   "cell_type": "markdown",
   "id": "91103115",
   "metadata": {},
   "source": [
    "##### train, test set 나누기"
   ]
  },
  {
   "cell_type": "code",
   "execution_count": 19,
   "id": "662af718",
   "metadata": {
    "ExecuteTime": {
     "end_time": "2021-11-12T00:36:02.379183Z",
     "start_time": "2021-11-12T00:36:02.348989Z"
    }
   },
   "outputs": [],
   "source": [
    "from sklearn.model_selection import train_test_split\n",
    "\n",
    "# test\n",
    "X_train, X_test, y_train, y_test = train_test_split(X1, y, test_size=0.2, \n",
    "                                                    stratify=y, random_state=0)\n",
    "# train / validation\n",
    "X_train, X_val, y_train, y_val= train_test_split(X_train, y_train,\n",
    "                                                 test_size=0.25,\n",
    "                                                 stratify=y_train, random_state=0)"
   ]
  },
  {
   "cell_type": "markdown",
   "id": "6a29c7ea",
   "metadata": {},
   "source": [
    "##### 모델생성\n",
    "- DecisionTreeClassifier\n",
    "- LogisticRegression"
   ]
  },
  {
   "cell_type": "code",
   "execution_count": 20,
   "id": "3e3f2a6f",
   "metadata": {
    "ExecuteTime": {
     "end_time": "2021-11-12T00:38:47.047822Z",
     "start_time": "2021-11-12T00:38:46.813479Z"
    }
   },
   "outputs": [],
   "source": [
    "from sklearn.tree import DecisionTreeClassifier\n",
    "from sklearn.linear_model import LogisticRegression"
   ]
  },
  {
   "cell_type": "code",
   "execution_count": 23,
   "id": "cb4fc242",
   "metadata": {
    "ExecuteTime": {
     "end_time": "2021-11-12T00:41:59.146989Z",
     "start_time": "2021-11-12T00:41:57.885363Z"
    }
   },
   "outputs": [
    {
     "data": {
      "text/plain": [
       "LogisticRegression(max_iter=2000, random_state=0)"
      ]
     },
     "execution_count": 23,
     "metadata": {},
     "output_type": "execute_result"
    }
   ],
   "source": [
    "tree = DecisionTreeClassifier(random_state=0)\n",
    "lr = LogisticRegression(max_iter=2000, random_state=0)\n",
    "\n",
    "# 학습\n",
    "tree.fit(X_train, y_train)\n",
    "lr.fit(X_train, y_train)"
   ]
  },
  {
   "cell_type": "markdown",
   "id": "e9a0aaa4",
   "metadata": {},
   "source": [
    "##### 추론"
   ]
  },
  {
   "cell_type": "code",
   "execution_count": 25,
   "id": "142bada1",
   "metadata": {
    "ExecuteTime": {
     "end_time": "2021-11-12T00:44:18.387080Z",
     "start_time": "2021-11-12T00:44:18.349182Z"
    }
   },
   "outputs": [],
   "source": [
    "pred_train_tree = tree.predict(X_train)\n",
    "pred_train_lr = lr.predict(X_train)\n",
    "\n",
    "pred_val_tree = tree.predict(X_val)\n",
    "pred_val_lr = lr.predict(X_val)"
   ]
  },
  {
   "cell_type": "markdown",
   "id": "2fb7cda0",
   "metadata": {},
   "source": [
    "##### 평가"
   ]
  },
  {
   "cell_type": "code",
   "execution_count": 28,
   "id": "23a9a34f",
   "metadata": {
    "ExecuteTime": {
     "end_time": "2021-11-12T00:47:55.298120Z",
     "start_time": "2021-11-12T00:47:55.277189Z"
    }
   },
   "outputs": [],
   "source": [
    "from sklearn.metrics import accuracy_score\n",
    "acc_train_tree = accuracy_score(y_train, pred_train_tree)\n",
    "acc_train_lr = accuracy_score(y_train, pred_train_lr)\n",
    "\n",
    "acc_val_tree = accuracy_score(y_val, pred_val_tree)\n",
    "acc_val_lr = accuracy_score(y_val, pred_val_lr)"
   ]
  },
  {
   "cell_type": "code",
   "execution_count": 30,
   "id": "05af4420",
   "metadata": {
    "ExecuteTime": {
     "end_time": "2021-11-12T00:49:13.178450Z",
     "start_time": "2021-11-12T00:49:13.165503Z"
    }
   },
   "outputs": [
    {
     "name": "stdout",
     "output_type": "stream",
     "text": [
      "train 정확도\n",
      "Tree: 0.9472259062776304, LR: 0.8081896551724138\n",
      "validation 정확도\n",
      "Tree: 0.7593237195425162, LR: 0.8032487982761478\n"
     ]
    }
   ],
   "source": [
    "print('train 정확도')\n",
    "print(f\"Tree: {acc_train_tree}, LR: {acc_train_lr}\")\n",
    "\n",
    "print('validation 정확도')\n",
    "print(f\"Tree: {acc_val_tree}, LR: {acc_val_lr}\")"
   ]
  }
 ],
 "metadata": {
  "kernelspec": {
   "display_name": "Python 3 (ipykernel)",
   "language": "python",
   "name": "python3"
  },
  "language_info": {
   "codemirror_mode": {
    "name": "ipython",
    "version": 3
   },
   "file_extension": ".py",
   "mimetype": "text/x-python",
   "name": "python",
   "nbconvert_exporter": "python",
   "pygments_lexer": "ipython3",
   "version": "3.8.12"
  },
  "toc": {
   "base_numbering": 1,
   "nav_menu": {},
   "number_sections": true,
   "sideBar": true,
   "skip_h1_title": false,
   "title_cell": "Table of Contents",
   "title_sidebar": "Contents",
   "toc_cell": false,
   "toc_position": {},
   "toc_section_display": true,
   "toc_window_display": false
  },
  "varInspector": {
   "cols": {
    "lenName": 16,
    "lenType": 16,
    "lenVar": 40
   },
   "kernels_config": {
    "python": {
     "delete_cmd_postfix": "",
     "delete_cmd_prefix": "del ",
     "library": "var_list.py",
     "varRefreshCmd": "print(var_dic_list())"
    },
    "r": {
     "delete_cmd_postfix": ") ",
     "delete_cmd_prefix": "rm(",
     "library": "var_list.r",
     "varRefreshCmd": "cat(var_dic_list()) "
    }
   },
   "types_to_exclude": [
    "module",
    "function",
    "builtin_function_or_method",
    "instance",
    "_Feature"
   ],
   "window_display": false
  }
 },
 "nbformat": 4,
 "nbformat_minor": 5
}
