{
 "cells": [
  {
   "cell_type": "markdown",
   "id": "bd1db172",
   "metadata": {},
   "source": [
    "#  위스콘신 유방암 데이터셋\n",
    "- Random Forest를 이용해 target을 분류\n",
    "- Feature importance 확인\n",
    "\n",
    "- GridSearch를 이용해 n_estimators, max_depth, max_features의 최적의 파라미터 탐색"
   ]
  },
  {
   "cell_type": "code",
   "execution_count": 5,
   "id": "d03ef626",
   "metadata": {
    "ExecuteTime": {
     "end_time": "2021-11-18T08:25:24.791174Z",
     "start_time": "2021-11-18T08:25:23.953362Z"
    }
   },
   "outputs": [],
   "source": [
    "import numpy as np\n",
    "import pandas as pd\n",
    "from sklearn.datasets import load_breast_cancer\n",
    "from sklearn.model_selection import train_test_split, GridSearchCV\n",
    "from sklearn.ensemble import RandomForestClassifier\n",
    "from sklearn.metrics import accuracy_score, roc_auc_score"
   ]
  },
  {
   "cell_type": "code",
   "execution_count": 6,
   "id": "09f4023f",
   "metadata": {
    "ExecuteTime": {
     "end_time": "2021-11-18T08:25:39.357254Z",
     "start_time": "2021-11-18T08:25:39.329211Z"
    }
   },
   "outputs": [],
   "source": [
    "data = load_breast_cancer()\n",
    "X, y = data.data, data.target"
   ]
  },
  {
   "cell_type": "code",
   "execution_count": 7,
   "id": "cffafd67",
   "metadata": {
    "ExecuteTime": {
     "end_time": "2021-11-18T08:26:15.607988Z",
     "start_time": "2021-11-18T08:26:15.600038Z"
    }
   },
   "outputs": [],
   "source": [
    "X_train, X_test, y_train, y_test = train_test_split(X,y,\n",
    "                                                   test_size=0.2,\n",
    "                                                   stratify=y,\n",
    "                                                   random_state=0)"
   ]
  },
  {
   "cell_type": "code",
   "execution_count": 8,
   "id": "dfef79c0",
   "metadata": {
    "ExecuteTime": {
     "end_time": "2021-11-18T08:26:38.562363Z",
     "start_time": "2021-11-18T08:26:38.544419Z"
    }
   },
   "outputs": [
    {
     "data": {
      "text/plain": [
       "((455, 30), (114, 30))"
      ]
     },
     "execution_count": 8,
     "metadata": {},
     "output_type": "execute_result"
    }
   ],
   "source": [
    "X_train.shape, X_test.shape"
   ]
  },
  {
   "cell_type": "code",
   "execution_count": 9,
   "id": "7f06d112",
   "metadata": {
    "ExecuteTime": {
     "end_time": "2021-11-18T08:30:25.170829Z",
     "start_time": "2021-11-18T08:30:25.152908Z"
    }
   },
   "outputs": [],
   "source": [
    "param = {\n",
    "    \"max_depth\": range(1,6),\n",
    "    \"n_estimators\": range(100,501,100),\n",
    "    \"max_features\": range(1,31, 5)\n",
    "}\n",
    "\n",
    "gs = GridSearchCV(RandomForestClassifier(n_jobs=-1, random_state=0),\n",
    "                 param,\n",
    "                 cv=4,\n",
    "                 n_jobs=-1)"
   ]
  },
  {
   "cell_type": "code",
   "execution_count": 10,
   "id": "bc6bb66a",
   "metadata": {
    "ExecuteTime": {
     "end_time": "2021-11-18T08:31:17.065973Z",
     "start_time": "2021-11-18T08:30:35.936046Z"
    }
   },
   "outputs": [
    {
     "data": {
      "text/plain": [
       "GridSearchCV(cv=4, estimator=RandomForestClassifier(n_jobs=-1, random_state=0),\n",
       "             n_jobs=-1,\n",
       "             param_grid={'max_depth': range(1, 6),\n",
       "                         'max_features': range(1, 31, 5),\n",
       "                         'n_estimators': range(100, 501, 100)})"
      ]
     },
     "execution_count": 10,
     "metadata": {},
     "output_type": "execute_result"
    }
   ],
   "source": [
    "gs.fit(X_train, y_train)"
   ]
  },
  {
   "cell_type": "code",
   "execution_count": 12,
   "id": "ebe0f173",
   "metadata": {
    "ExecuteTime": {
     "end_time": "2021-11-18T08:40:38.953188Z",
     "start_time": "2021-11-18T08:40:38.944213Z"
    }
   },
   "outputs": [
    {
     "data": {
      "text/plain": [
       "{'max_depth': 4, 'max_features': 16, 'n_estimators': 300}"
      ]
     },
     "execution_count": 12,
     "metadata": {},
     "output_type": "execute_result"
    }
   ],
   "source": [
    "gs.best_params_"
   ]
  },
  {
   "cell_type": "code",
   "execution_count": 13,
   "id": "25acf7d4",
   "metadata": {
    "ExecuteTime": {
     "end_time": "2021-11-18T08:40:45.752293Z",
     "start_time": "2021-11-18T08:40:45.743291Z"
    }
   },
   "outputs": [
    {
     "data": {
      "text/plain": [
       "0.9648540599285824"
      ]
     },
     "execution_count": 13,
     "metadata": {},
     "output_type": "execute_result"
    }
   ],
   "source": [
    "gs.best_score_"
   ]
  },
  {
   "cell_type": "code",
   "execution_count": 14,
   "id": "36b98f37",
   "metadata": {
    "ExecuteTime": {
     "end_time": "2021-11-18T08:41:13.607201Z",
     "start_time": "2021-11-18T08:41:13.568255Z"
    }
   },
   "outputs": [],
   "source": [
    "best_model = gs.best_estimator_\n",
    "fi = best_model.feature_importances_"
   ]
  },
  {
   "cell_type": "code",
   "execution_count": 15,
   "id": "7af9c203",
   "metadata": {
    "ExecuteTime": {
     "end_time": "2021-11-18T08:41:14.168998Z",
     "start_time": "2021-11-18T08:41:14.160022Z"
    }
   },
   "outputs": [
    {
     "data": {
      "text/plain": [
       "worst concave points       0.247656\n",
       "worst perimeter            0.216231\n",
       "worst radius               0.163227\n",
       "mean concave points        0.126286\n",
       "worst area                 0.103267\n",
       "worst texture              0.019934\n",
       "mean concavity             0.015295\n",
       "mean texture               0.014945\n",
       "worst concavity            0.014496\n",
       "area error                 0.014007\n",
       "worst smoothness           0.006950\n",
       "mean perimeter             0.006876\n",
       "radius error               0.006705\n",
       "worst compactness          0.004974\n",
       "mean radius                0.004893\n",
       "perimeter error            0.004592\n",
       "worst fractal dimension    0.003886\n",
       "worst symmetry             0.003760\n",
       "mean area                  0.003233\n",
       "mean symmetry              0.002454\n",
       "texture error              0.002181\n",
       "compactness error          0.001909\n",
       "mean fractal dimension     0.001781\n",
       "symmetry error             0.001724\n",
       "fractal dimension error    0.001688\n",
       "concave points error       0.001621\n",
       "concavity error            0.001602\n",
       "mean compactness           0.001347\n",
       "smoothness error           0.001282\n",
       "mean smoothness            0.001197\n",
       "dtype: float64"
      ]
     },
     "execution_count": 15,
     "metadata": {},
     "output_type": "execute_result"
    }
   ],
   "source": [
    "fi = pd.Series(fi, index=data.feature_names)\n",
    "fi.sort_values(ascending=False)"
   ]
  },
  {
   "cell_type": "code",
   "execution_count": 16,
   "id": "6983ea0f",
   "metadata": {
    "ExecuteTime": {
     "end_time": "2021-11-18T08:41:14.731606Z",
     "start_time": "2021-11-18T08:41:14.672139Z"
    }
   },
   "outputs": [
    {
     "data": {
      "text/plain": [
       "0.9385964912280702"
      ]
     },
     "execution_count": 16,
     "metadata": {},
     "output_type": "execute_result"
    }
   ],
   "source": [
    "# 최종 평가\n",
    "pred_test = best_model.predict(X_test)\n",
    "accuracy_score(y_test, pred_test)"
   ]
  }
 ],
 "metadata": {
  "kernelspec": {
   "display_name": "Python 3 (ipykernel)",
   "language": "python",
   "name": "python3"
  },
  "language_info": {
   "codemirror_mode": {
    "name": "ipython",
    "version": 3
   },
   "file_extension": ".py",
   "mimetype": "text/x-python",
   "name": "python",
   "nbconvert_exporter": "python",
   "pygments_lexer": "ipython3",
   "version": "3.9.7"
  },
  "toc": {
   "base_numbering": 1,
   "nav_menu": {},
   "number_sections": true,
   "sideBar": true,
   "skip_h1_title": false,
   "title_cell": "Table of Contents",
   "title_sidebar": "Contents",
   "toc_cell": false,
   "toc_position": {},
   "toc_section_display": true,
   "toc_window_display": false
  },
  "varInspector": {
   "cols": {
    "lenName": 16,
    "lenType": 16,
    "lenVar": 40
   },
   "kernels_config": {
    "python": {
     "delete_cmd_postfix": "",
     "delete_cmd_prefix": "del ",
     "library": "var_list.py",
     "varRefreshCmd": "print(var_dic_list())"
    },
    "r": {
     "delete_cmd_postfix": ") ",
     "delete_cmd_prefix": "rm(",
     "library": "var_list.r",
     "varRefreshCmd": "cat(var_dic_list()) "
    }
   },
   "types_to_exclude": [
    "module",
    "function",
    "builtin_function_or_method",
    "instance",
    "_Feature"
   ],
   "window_display": false
  }
 },
 "nbformat": 4,
 "nbformat_minor": 5
}
