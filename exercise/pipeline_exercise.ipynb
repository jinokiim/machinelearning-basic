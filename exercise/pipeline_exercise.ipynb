{
 "cells": [
  {
   "cell_type": "markdown",
   "id": "59e48a0f",
   "metadata": {},
   "source": [
    "# iris dataset 분류\n",
    "- model: KNN 사용\n",
    "- gridsearch를 이용해서 최적의 K값 찾는다."
   ]
  },
  {
   "cell_type": "markdown",
   "id": "bfc43de1",
   "metadata": {},
   "source": [
    "##### 데이터셋 로드 및 분리"
   ]
  },
  {
   "cell_type": "code",
   "execution_count": 67,
   "id": "82cd1413",
   "metadata": {
    "ExecuteTime": {
     "end_time": "2021-11-17T07:35:07.772942Z",
     "start_time": "2021-11-17T07:35:07.757646Z"
    }
   },
   "outputs": [],
   "source": [
    "from sklearn.datasets import load_iris\n",
    "import numpy as np\n",
    "import pandas as pd\n",
    "from sklearn.svm import SVC\n",
    "from sklearn.model_selection import train_test_split\n",
    "from sklearn.model_selection import GridSearchCV, train_test_split\n",
    "from sklearn.neighbors import KNeighborsClassifier\n",
    "from sklearn.preprocessing import StandardScaler, MinMaxScaler\n",
    "from sklearn.metrics import accuracy_score\n",
    "from sklearn.pipeline import Pipeline, make_pipeline\n",
    "\n",
    "X, y = load_iris(return_X_y=True)"
   ]
  },
  {
   "cell_type": "code",
   "execution_count": 68,
   "id": "3cdcfa69",
   "metadata": {
    "ExecuteTime": {
     "end_time": "2021-11-17T07:35:37.390260Z",
     "start_time": "2021-11-17T07:35:37.383233Z"
    }
   },
   "outputs": [
    {
     "data": {
      "text/plain": [
       "((120, 4), (30, 4), (120,), (30,))"
      ]
     },
     "execution_count": 68,
     "metadata": {},
     "output_type": "execute_result"
    }
   ],
   "source": [
    "X_train, X_test, y_train, y_test = train_test_split(X, y,\n",
    "                                                   test_size=0.2, random_state=930,\n",
    "                                                   stratify = y)\n",
    "\n",
    "X_train.shape, X_test.shape, y_train.shape, y_test.shape"
   ]
  },
  {
   "cell_type": "markdown",
   "id": "b44fbed2",
   "metadata": {},
   "source": [
    "##### Pipeline 생성"
   ]
  },
  {
   "cell_type": "code",
   "execution_count": 70,
   "id": "1ca3a37a",
   "metadata": {
    "ExecuteTime": {
     "end_time": "2021-11-17T07:38:35.231354Z",
     "start_time": "2021-11-17T07:38:35.222406Z"
    }
   },
   "outputs": [],
   "source": [
    "order = [\n",
    "    ('scaler', StandardScaler()),\n",
    "    ('knn', KNeighborsClassifier())\n",
    "]\n",
    "pipeline = Pipeline(order, verbose=True)\n",
    "\n",
    "# makepipe 사용\n",
    "# pipeline2 = make_pipeline(StandardScaler(), KNeighborsClassifier())\n"
   ]
  },
  {
   "cell_type": "markdown",
   "id": "065c6f4f",
   "metadata": {},
   "source": [
    "##### GridSearchCV 생성 및 학습"
   ]
  },
  {
   "cell_type": "code",
   "execution_count": 83,
   "id": "c7eff0ea",
   "metadata": {
    "ExecuteTime": {
     "end_time": "2021-11-17T07:46:06.854549Z",
     "start_time": "2021-11-17T07:46:06.678996Z"
    }
   },
   "outputs": [
    {
     "name": "stdout",
     "output_type": "stream",
     "text": [
      "[Pipeline] ............ (step 1 of 2) Processing scaler, total=   0.0s\n",
      "[Pipeline] ............... (step 2 of 2) Processing knn, total=   0.0s\n"
     ]
    },
    {
     "data": {
      "text/plain": [
       "GridSearchCV(cv=4,\n",
       "             estimator=Pipeline(steps=[('scaler', StandardScaler()),\n",
       "                                       ('knn', KNeighborsClassifier())],\n",
       "                                verbose=True),\n",
       "             n_jobs=-1,\n",
       "             param_grid={'knn__n_neighbors': range(1, 20), 'knn__p': [1, 2]},\n",
       "             scoring='accuracy')"
      ]
     },
     "execution_count": 83,
     "metadata": {},
     "output_type": "execute_result"
    }
   ],
   "source": [
    "param = {\n",
    "    \"knn__n_neighbors\": range(1,20),\n",
    "    \"knn__p\": [1,2]\n",
    "}\n",
    "\n",
    "gs = GridSearchCV(pipeline, param, scoring='accuracy', cv=4, n_jobs=-1)\n",
    "\n",
    "gs.fit(X_train, y_train)"
   ]
  },
  {
   "cell_type": "markdown",
   "id": "ece61c4e",
   "metadata": {},
   "source": [
    "##### 결과 확인"
   ]
  },
  {
   "cell_type": "code",
   "execution_count": 84,
   "id": "cefaf3d5",
   "metadata": {
    "ExecuteTime": {
     "end_time": "2021-11-17T07:46:07.141680Z",
     "start_time": "2021-11-17T07:46:07.111540Z"
    }
   },
   "outputs": [
    {
     "data": {
      "text/html": [
       "<div>\n",
       "<style scoped>\n",
       "    .dataframe tbody tr th:only-of-type {\n",
       "        vertical-align: middle;\n",
       "    }\n",
       "\n",
       "    .dataframe tbody tr th {\n",
       "        vertical-align: top;\n",
       "    }\n",
       "\n",
       "    .dataframe thead th {\n",
       "        text-align: right;\n",
       "    }\n",
       "</style>\n",
       "<table border=\"1\" class=\"dataframe\">\n",
       "  <thead>\n",
       "    <tr style=\"text-align: right;\">\n",
       "      <th></th>\n",
       "      <th>mean_fit_time</th>\n",
       "      <th>std_fit_time</th>\n",
       "      <th>mean_score_time</th>\n",
       "      <th>std_score_time</th>\n",
       "      <th>param_knn__n_neighbors</th>\n",
       "      <th>param_knn__p</th>\n",
       "      <th>params</th>\n",
       "      <th>split0_test_score</th>\n",
       "      <th>split1_test_score</th>\n",
       "      <th>split2_test_score</th>\n",
       "      <th>split3_test_score</th>\n",
       "      <th>mean_test_score</th>\n",
       "      <th>std_test_score</th>\n",
       "      <th>rank_test_score</th>\n",
       "    </tr>\n",
       "  </thead>\n",
       "  <tbody>\n",
       "    <tr>\n",
       "      <th>10</th>\n",
       "      <td>0.0</td>\n",
       "      <td>0.0</td>\n",
       "      <td>0.0</td>\n",
       "      <td>0.0</td>\n",
       "      <td>6</td>\n",
       "      <td>1</td>\n",
       "      <td>{'knn__n_neighbors': 6, 'knn__p': 1}</td>\n",
       "      <td>0.966667</td>\n",
       "      <td>1.000000</td>\n",
       "      <td>0.966667</td>\n",
       "      <td>0.966667</td>\n",
       "      <td>0.975000</td>\n",
       "      <td>0.014434</td>\n",
       "      <td>1</td>\n",
       "    </tr>\n",
       "    <tr>\n",
       "      <th>15</th>\n",
       "      <td>0.0</td>\n",
       "      <td>0.0</td>\n",
       "      <td>0.0</td>\n",
       "      <td>0.0</td>\n",
       "      <td>8</td>\n",
       "      <td>2</td>\n",
       "      <td>{'knn__n_neighbors': 8, 'knn__p': 2}</td>\n",
       "      <td>0.966667</td>\n",
       "      <td>0.966667</td>\n",
       "      <td>0.966667</td>\n",
       "      <td>1.000000</td>\n",
       "      <td>0.975000</td>\n",
       "      <td>0.014434</td>\n",
       "      <td>2</td>\n",
       "    </tr>\n",
       "    <tr>\n",
       "      <th>13</th>\n",
       "      <td>0.0</td>\n",
       "      <td>0.0</td>\n",
       "      <td>0.0</td>\n",
       "      <td>0.0</td>\n",
       "      <td>7</td>\n",
       "      <td>2</td>\n",
       "      <td>{'knn__n_neighbors': 7, 'knn__p': 2}</td>\n",
       "      <td>0.966667</td>\n",
       "      <td>0.966667</td>\n",
       "      <td>0.933333</td>\n",
       "      <td>1.000000</td>\n",
       "      <td>0.966667</td>\n",
       "      <td>0.023570</td>\n",
       "      <td>3</td>\n",
       "    </tr>\n",
       "    <tr>\n",
       "      <th>12</th>\n",
       "      <td>0.0</td>\n",
       "      <td>0.0</td>\n",
       "      <td>0.0</td>\n",
       "      <td>0.0</td>\n",
       "      <td>7</td>\n",
       "      <td>1</td>\n",
       "      <td>{'knn__n_neighbors': 7, 'knn__p': 1}</td>\n",
       "      <td>0.966667</td>\n",
       "      <td>0.966667</td>\n",
       "      <td>0.933333</td>\n",
       "      <td>1.000000</td>\n",
       "      <td>0.966667</td>\n",
       "      <td>0.023570</td>\n",
       "      <td>3</td>\n",
       "    </tr>\n",
       "    <tr>\n",
       "      <th>11</th>\n",
       "      <td>0.0</td>\n",
       "      <td>0.0</td>\n",
       "      <td>0.0</td>\n",
       "      <td>0.0</td>\n",
       "      <td>6</td>\n",
       "      <td>2</td>\n",
       "      <td>{'knn__n_neighbors': 6, 'knn__p': 2}</td>\n",
       "      <td>0.966667</td>\n",
       "      <td>0.966667</td>\n",
       "      <td>0.966667</td>\n",
       "      <td>0.966667</td>\n",
       "      <td>0.966667</td>\n",
       "      <td>0.000000</td>\n",
       "      <td>3</td>\n",
       "    </tr>\n",
       "  </tbody>\n",
       "</table>\n",
       "</div>"
      ],
      "text/plain": [
       "    mean_fit_time  std_fit_time  mean_score_time  std_score_time  \\\n",
       "10            0.0           0.0              0.0             0.0   \n",
       "15            0.0           0.0              0.0             0.0   \n",
       "13            0.0           0.0              0.0             0.0   \n",
       "12            0.0           0.0              0.0             0.0   \n",
       "11            0.0           0.0              0.0             0.0   \n",
       "\n",
       "   param_knn__n_neighbors param_knn__p                                params  \\\n",
       "10                      6            1  {'knn__n_neighbors': 6, 'knn__p': 1}   \n",
       "15                      8            2  {'knn__n_neighbors': 8, 'knn__p': 2}   \n",
       "13                      7            2  {'knn__n_neighbors': 7, 'knn__p': 2}   \n",
       "12                      7            1  {'knn__n_neighbors': 7, 'knn__p': 1}   \n",
       "11                      6            2  {'knn__n_neighbors': 6, 'knn__p': 2}   \n",
       "\n",
       "    split0_test_score  split1_test_score  split2_test_score  \\\n",
       "10           0.966667           1.000000           0.966667   \n",
       "15           0.966667           0.966667           0.966667   \n",
       "13           0.966667           0.966667           0.933333   \n",
       "12           0.966667           0.966667           0.933333   \n",
       "11           0.966667           0.966667           0.966667   \n",
       "\n",
       "    split3_test_score  mean_test_score  std_test_score  rank_test_score  \n",
       "10           0.966667         0.975000        0.014434                1  \n",
       "15           1.000000         0.975000        0.014434                2  \n",
       "13           1.000000         0.966667        0.023570                3  \n",
       "12           1.000000         0.966667        0.023570                3  \n",
       "11           0.966667         0.966667        0.000000                3  "
      ]
     },
     "execution_count": 84,
     "metadata": {},
     "output_type": "execute_result"
    }
   ],
   "source": [
    "result_df = pd.DataFrame(gs.cv_results_)\n",
    "result_df.sort_values('rank_test_score').head()"
   ]
  },
  {
   "cell_type": "code",
   "execution_count": 85,
   "id": "f0be8064",
   "metadata": {
    "ExecuteTime": {
     "end_time": "2021-11-17T07:46:07.323485Z",
     "start_time": "2021-11-17T07:46:07.303497Z"
    }
   },
   "outputs": [
    {
     "data": {
      "text/plain": [
       "Pipeline(steps=[('scaler', StandardScaler()),\n",
       "                ('knn', KNeighborsClassifier(n_neighbors=6, p=1))],\n",
       "         verbose=True)"
      ]
     },
     "execution_count": 85,
     "metadata": {},
     "output_type": "execute_result"
    }
   ],
   "source": [
    "best_model = gs.best_estimator_\n",
    "best_model"
   ]
  },
  {
   "cell_type": "code",
   "execution_count": 86,
   "id": "acf4b1fa",
   "metadata": {
    "ExecuteTime": {
     "end_time": "2021-11-17T07:46:07.746126Z",
     "start_time": "2021-11-17T07:46:07.735161Z"
    }
   },
   "outputs": [],
   "source": [
    "pred_test = best_model.predict(X_test)"
   ]
  },
  {
   "cell_type": "code",
   "execution_count": 87,
   "id": "49bf3626",
   "metadata": {
    "ExecuteTime": {
     "end_time": "2021-11-17T07:46:08.094984Z",
     "start_time": "2021-11-17T07:46:08.087006Z"
    }
   },
   "outputs": [
    {
     "data": {
      "text/plain": [
       "0.9333333333333333"
      ]
     },
     "execution_count": 87,
     "metadata": {},
     "output_type": "execute_result"
    }
   ],
   "source": [
    "accuracy_score(y_test, pred_test)"
   ]
  },
  {
   "cell_type": "code",
   "execution_count": 88,
   "id": "61cfee7d",
   "metadata": {
    "ExecuteTime": {
     "end_time": "2021-11-17T07:48:18.518709Z",
     "start_time": "2021-11-17T07:48:18.503720Z"
    }
   },
   "outputs": [
    {
     "data": {
      "text/plain": [
       "(120, 4)"
      ]
     },
     "execution_count": 88,
     "metadata": {},
     "output_type": "execute_result"
    }
   ],
   "source": [
    "X_train.shape"
   ]
  },
  {
   "cell_type": "code",
   "execution_count": null,
   "id": "fdd1d1ba",
   "metadata": {},
   "outputs": [],
   "source": []
  }
 ],
 "metadata": {
  "kernelspec": {
   "display_name": "Python 3 (ipykernel)",
   "language": "python",
   "name": "python3"
  },
  "language_info": {
   "codemirror_mode": {
    "name": "ipython",
    "version": 3
   },
   "file_extension": ".py",
   "mimetype": "text/x-python",
   "name": "python",
   "nbconvert_exporter": "python",
   "pygments_lexer": "ipython3",
   "version": "3.8.12"
  },
  "toc": {
   "base_numbering": 1,
   "nav_menu": {},
   "number_sections": true,
   "sideBar": true,
   "skip_h1_title": false,
   "title_cell": "Table of Contents",
   "title_sidebar": "Contents",
   "toc_cell": false,
   "toc_position": {},
   "toc_section_display": true,
   "toc_window_display": false
  },
  "varInspector": {
   "cols": {
    "lenName": 16,
    "lenType": 16,
    "lenVar": 40
   },
   "kernels_config": {
    "python": {
     "delete_cmd_postfix": "",
     "delete_cmd_prefix": "del ",
     "library": "var_list.py",
     "varRefreshCmd": "print(var_dic_list())"
    },
    "r": {
     "delete_cmd_postfix": ") ",
     "delete_cmd_prefix": "rm(",
     "library": "var_list.r",
     "varRefreshCmd": "cat(var_dic_list()) "
    }
   },
   "types_to_exclude": [
    "module",
    "function",
    "builtin_function_or_method",
    "instance",
    "_Feature"
   ],
   "window_display": false
  }
 },
 "nbformat": 4,
 "nbformat_minor": 5
}
