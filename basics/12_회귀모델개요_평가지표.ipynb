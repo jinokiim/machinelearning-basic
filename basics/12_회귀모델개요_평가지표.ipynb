{
 "cells": [
  {
   "cell_type": "markdown",
   "metadata": {
    "slideshow": {
     "slide_type": "slide"
    }
   },
   "source": [
    "# 회귀(Regression)\n",
    "\n",
    "예측할 값(Target)이 연속형(continuous) 데이터(float)인 지도 학습(Supervised Learning)."
   ]
  },
  {
   "cell_type": "markdown",
   "metadata": {
    "slideshow": {
     "slide_type": "fragment"
    }
   },
   "source": [
    "## 회귀의 주요 평가 지표\n",
    "\n",
    "- ### MSE (Mean Squared Error)\n",
    "    - 실제 값과 예측값의 차를 제곱해 평균 낸 것\n",
    "    - scikit-learn 평가함수: mean_squared_error() \n",
    "    - 교차검증시 지정할 문자열: 'neg_mean_squared_error'\n",
    "    $$\n",
    "    MSE = \\frac{1}{n}\\sum_{i=1}^{n}(y_i - \\hat{y_i})^2\\\\\n",
    "    y_i: 실제값, \\hat{y_i}: 모델이 예측한 값\n",
    "    $$\n",
    "    "
   ]
  },
  {
   "cell_type": "markdown",
   "metadata": {
    "slideshow": {
     "slide_type": "fragment"
    }
   },
   "source": [
    "- ### RMSE (Root Mean Squared Error)\n",
    "    - MSE는 오차의 제곱한 값이므로 실제 오차의 평균보다 큰 값이 나온다.  MSE의 제곱근이 RMSE이다.\n",
    "    - scikit-learn은 함수를 지원하지 않는다. (MSE를 구한 뒤 np.sqrt()로 제곱근을 구한다.)\n",
    "    \n",
    "    $$\n",
    "    RMSE = \\sqrt{\\frac{1}{n}\\sum_{i=1}^{n}(y_i - \\hat{y_i})^2}\n",
    "    $$"
   ]
  },
  {
   "cell_type": "markdown",
   "metadata": {
    "slideshow": {
     "slide_type": "fragment"
    }
   },
   "source": [
    "- ### $R^2$ (R square, 결정계수)\n",
    "    - 평균으로 예측했을 때 오차(총오차) 보다 모델을 사용했을 때 얼마 만큼 더 좋은 성능을 내는지를 비율로 나타낸 값. \n",
    "    - 1에 가까울 수록 좋은 모델.\n",
    "    - scikit-learn 평가함수: r2_score()\n",
    "    - 교차검증시 지정할 문자열: 'r2'\n",
    "    - [참고](https://ko.khanacademy.org/math/statistics-probability/describing-relationships-quantitative-data/assessing-the-fit-in-least-squares-regression/a/r-squared-intuition)\n",
    "    $$\n",
    "    R^2 = \\cfrac{\\sum_{i=1}^{n}(\\hat{y_i}-\\bar{y})^2}{\\sum_{i=1}^{n}(y_i - \\bar{y})^2}\\\\\n",
    "    R^2 = 1 - \\cfrac{\\sum_{i=1}^{n}(y_i - \\hat{y_i})^2}{\\sum_{i=1}^{n}(y_i - \\bar{y})^2}\n",
    "    $$\n",
    "\n",
    "- $y_i$ : i번째 실제 값, \n",
    "- $\\hat{y_i}$ : i 번째 예측 값, \n",
    "- $\\bar{y}$ : y의 평균    "
   ]
  },
  {
   "cell_type": "markdown",
   "metadata": {
    "slideshow": {
     "slide_type": "slide"
    }
   },
   "source": [
    "### 예제"
   ]
  },
  {
   "cell_type": "markdown",
   "metadata": {
    "slideshow": {
     "slide_type": "fragment"
    }
   },
   "source": [
    "##### import"
   ]
  },
  {
   "cell_type": "code",
   "execution_count": 1,
   "metadata": {
    "ExecuteTime": {
     "end_time": "2021-11-19T08:24:39.572532Z",
     "start_time": "2021-11-19T08:24:38.626465Z"
    },
    "slideshow": {
     "slide_type": "fragment"
    }
   },
   "outputs": [],
   "source": [
    "import numpy as np\n",
    "import matplotlib.pyplot as plt\n",
    "import seaborn as sns\n",
    "\n",
    "from sklearn.datasets import make_regression\n",
    "from sklearn.model_selection import cross_val_score\n",
    "\n",
    "from sklearn.linear_model import LinearRegression"
   ]
  },
  {
   "cell_type": "markdown",
   "metadata": {
    "slideshow": {
     "slide_type": "slide"
    }
   },
   "source": [
    "##### Dataset 생성\n",
    "- make_xxxxx() 함수\n",
    "    - 머신러닝 학습을 위한 dummy dataset 구현 함수\n",
    "    - 필요한 설정을 직접하여 테스트할 수 있는 데이터셋을 생성해준다.\n",
    "- make_regression(): 회귀 문제를 위한 dummy dataset 생성\n",
    "- make_classification(): 분류 문제를 위한 dummy dataset 생성"
   ]
  },
  {
   "cell_type": "code",
   "execution_count": 2,
   "metadata": {
    "ExecuteTime": {
     "end_time": "2021-11-19T08:24:39.588567Z",
     "start_time": "2021-11-19T08:24:39.572532Z"
    },
    "slideshow": {
     "slide_type": "fragment"
    }
   },
   "outputs": [],
   "source": [
    "X, y = make_regression(n_samples=100,    # 데이터포인트(샘플)개수\n",
    "                       n_features=1,     # feature 개수\n",
    "                       n_informative=1,  # 정답(y)에 영향을 주는 feature 개수\n",
    "                       noise = 50,       # 잡음 - 예측(추론)할 수 없는 절대 오차\n",
    "                       coef = False,     # feature간의 상관성(연관성) 여부\n",
    "                       random_state = 1) "
   ]
  },
  {
   "cell_type": "code",
   "execution_count": 3,
   "metadata": {
    "ExecuteTime": {
     "end_time": "2021-11-19T08:24:39.603751Z",
     "start_time": "2021-11-19T08:24:39.589565Z"
    },
    "slideshow": {
     "slide_type": "fragment"
    }
   },
   "outputs": [
    {
     "data": {
      "text/plain": [
       "((100, 1), (100,))"
      ]
     },
     "execution_count": 3,
     "metadata": {},
     "output_type": "execute_result"
    }
   ],
   "source": [
    "X.shape, y.shape"
   ]
  },
  {
   "cell_type": "code",
   "execution_count": 4,
   "metadata": {
    "ExecuteTime": {
     "end_time": "2021-11-19T08:24:39.714721Z",
     "start_time": "2021-11-19T08:24:39.605746Z"
    },
    "slideshow": {
     "slide_type": "fragment"
    }
   },
   "outputs": [
    {
     "data": {
      "text/plain": [
       "<matplotlib.collections.PathCollection at 0x224abfd2d90>"
      ]
     },
     "execution_count": 4,
     "metadata": {},
     "output_type": "execute_result"
    },
    {
     "data": {
      "image/png": "[encoded data removed]",
      "text/plain": [
       "<Figure size 432x288 with 1 Axes>"
      ]
     },
     "metadata": {
      "needs_background": "light"
     },
     "output_type": "display_data"
    }
   ],
   "source": [
    "plt.scatter(X, y)"
   ]
  },
  {
   "cell_type": "code",
   "execution_count": 5,
   "metadata": {
    "ExecuteTime": {
     "end_time": "2021-11-19T08:24:39.730684Z",
     "start_time": "2021-11-19T08:24:39.715361Z"
    },
    "slideshow": {
     "slide_type": "fragment"
    }
   },
   "outputs": [
    {
     "data": {
      "text/plain": [
       "(15.293427290684107,\n",
       " -255.11169199137663,\n",
       " 247.19463389209255,\n",
       " 20.62597485010551)"
      ]
     },
     "execution_count": 5,
     "metadata": {},
     "output_type": "execute_result"
    }
   ],
   "source": [
    "np.mean(y), np.min(y), np.max(y), np.median(y)"
   ]
  },
  {
   "cell_type": "markdown",
   "metadata": {
    "slideshow": {
     "slide_type": "slide"
    }
   },
   "source": [
    "##### 모델 생성, 학습, 추론"
   ]
  },
  {
   "cell_type": "code",
   "execution_count": 6,
   "metadata": {
    "ExecuteTime": {
     "end_time": "2021-11-19T08:24:39.746670Z",
     "start_time": "2021-11-19T08:24:39.731711Z"
    },
    "slideshow": {
     "slide_type": "fragment"
    }
   },
   "outputs": [],
   "source": [
    "lr = LinearRegression()\n",
    "lr.fit(X, y)\n",
    "pred = lr.predict(X)\n",
    "\n",
    "# y: 정답, pred: y_hat"
   ]
  },
  {
   "cell_type": "markdown",
   "metadata": {
    "slideshow": {
     "slide_type": "fragment"
    }
   },
   "source": [
    "##### 평가"
   ]
  },
  {
   "cell_type": "code",
   "execution_count": 7,
   "metadata": {
    "ExecuteTime": {
     "end_time": "2021-11-19T08:24:39.762599Z",
     "start_time": "2021-11-19T08:24:39.747640Z"
    },
    "slideshow": {
     "slide_type": "fragment"
    }
   },
   "outputs": [
    {
     "name": "stdout",
     "output_type": "stream",
     "text": [
      "MSE :  2078.5472792307764\n",
      "RMSE :  45.59108771712709\n",
      "R^2 :  0.7321024057172182\n"
     ]
    }
   ],
   "source": [
    "from sklearn.metrics import mean_squared_error, r2_score\n",
    "\n",
    "mse = mean_squared_error(y, pred)\n",
    "r2 = r2_score(y, pred)\n",
    "print(\"MSE : \", mse)\n",
    "print(\"RMSE : \", np.sqrt(mse))\n",
    "print('R^2 : ', r2)"
   ]
  },
  {
   "cell_type": "markdown",
   "metadata": {},
   "source": [
    "- 해석 : 73% 의 개선이 있음"
   ]
  },
  {
   "cell_type": "markdown",
   "metadata": {
    "slideshow": {
     "slide_type": "slide"
    }
   },
   "source": [
    "##### 교차검증 (cross validation)"
   ]
  },
  {
   "cell_type": "code",
   "execution_count": 8,
   "metadata": {
    "ExecuteTime": {
     "end_time": "2021-11-19T08:24:39.778557Z",
     "start_time": "2021-11-19T08:24:39.763597Z"
    },
    "slideshow": {
     "slide_type": "fragment"
    }
   },
   "outputs": [
    {
     "name": "stdout",
     "output_type": "stream",
     "text": [
      "cv별 R2: [0.58124097 0.82853824 0.52826294 0.76611492 0.7184243 ]\n",
      "평균 R2:  0.6845162761863837\n"
     ]
    }
   ],
   "source": [
    "score = cross_val_score(lr, X, y, cv=5)   # 기본 평가지표: R2\n",
    "print(\"cv별 R2:\", score)\n",
    "print(\"평균 R2: \", np.mean(score))"
   ]
  },
  {
   "cell_type": "code",
   "execution_count": 9,
   "metadata": {
    "ExecuteTime": {
     "end_time": "2021-11-19T08:24:39.826429Z",
     "start_time": "2021-11-19T08:24:39.779554Z"
    },
    "slideshow": {
     "slide_type": "fragment"
    }
   },
   "outputs": [
    {
     "name": "stdout",
     "output_type": "stream",
     "text": [
      "mse:  [-2345.81697166 -1813.79924962 -2204.02751713 -1490.54918087\n",
      " -3044.11453168]\n",
      "mse평균:  2179.661490191461\n"
     ]
    }
   ],
   "source": [
    "score = cross_val_score(lr, X, y, scoring='neg_mean_squared_error', cv=5)\n",
    "# neg_mean_squared_error : MSE * -1값을 평가지표로 출력\n",
    "print(\"mse: \", score) # MSE값을 보려면 -1값을 다시 곱해줘야 한다.\n",
    "print(\"mse평균: \", np.mean(score)*-1)"
   ]
  },
  {
   "cell_type": "markdown",
   "metadata": {
    "slideshow": {
     "slide_type": "slide"
    }
   },
   "source": [
    "##### 모델이 계수(coef)와 절편(intercept) 조회\n",
    "- LinearRegression 모델이 학습해서 찾는 파라미터\n",
    "    - coef_: Feature에 곱하는 가중치\n",
    "    - intercept_: 모든 Feature가 0일때 예측값"
   ]
  },
  {
   "cell_type": "code",
   "execution_count": 10,
   "metadata": {
    "ExecuteTime": {
     "end_time": "2021-11-19T08:24:39.842386Z",
     "start_time": "2021-11-19T08:24:39.828424Z"
    },
    "slideshow": {
     "slide_type": "fragment"
    }
   },
   "outputs": [
    {
     "name": "stdout",
     "output_type": "stream",
     "text": [
      "coef: [85.14546889] intercept: 10.135071944054275\n"
     ]
    }
   ],
   "source": [
    "lr.fit(X, y)\n",
    "print(\"coef:\", lr.coef_, \"intercept:\",lr.intercept_)"
   ]
  },
  {
   "cell_type": "markdown",
   "metadata": {
    "slideshow": {
     "slide_type": "fragment"
    }
   },
   "source": [
    "##### X, y와 추론결과  시각화"
   ]
  },
  {
   "cell_type": "code",
   "execution_count": 11,
   "metadata": {
    "ExecuteTime": {
     "end_time": "2021-11-19T08:24:39.937132Z",
     "start_time": "2021-11-19T08:24:39.843384Z"
    },
    "slideshow": {
     "slide_type": "fragment"
    }
   },
   "outputs": [
    {
     "data": {
      "image/png": "[encoded data removed]",
      "text/plain": [
       "<Figure size 432x288 with 1 Axes>"
      ]
     },
     "metadata": {
      "needs_background": "light"
     },
     "output_type": "display_data"
    }
   ],
   "source": [
    "plt.scatter(X, y)\n",
    "y_hat = X*lr.coef_ + lr.intercept_\n",
    "plt.plot(X, y_hat, color='red')\n",
    "plt.show()"
   ]
  },
  {
   "cell_type": "markdown",
   "metadata": {
    "slideshow": {
     "slide_type": "slide"
    }
   },
   "source": [
    "## 기존 분류 모델의 회귀 모델"
   ]
  },
  {
   "cell_type": "markdown",
   "metadata": {
    "slideshow": {
     "slide_type": "fragment"
    }
   },
   "source": [
    "##### import"
   ]
  },
  {
   "cell_type": "code",
   "execution_count": 12,
   "metadata": {
    "ExecuteTime": {
     "end_time": "2021-11-19T08:24:39.984007Z",
     "start_time": "2021-11-19T08:24:39.938130Z"
    },
    "slideshow": {
     "slide_type": "fragment"
    }
   },
   "outputs": [],
   "source": [
    "from sklearn.model_selection import train_test_split\n",
    "\n",
    "from sklearn.neighbors import KNeighborsRegressor\n",
    "from sklearn.tree import DecisionTreeRegressor\n",
    "from sklearn.ensemble import RandomForestRegressor, GradientBoostingRegressor, VotingRegressor\n",
    "from sklearn.linear_model import LinearRegression\n",
    "\n",
    "X_train, X_test, y_train, y_test = train_test_split(X, y, test_size=0.2, random_state=12)"
   ]
  },
  {
   "cell_type": "markdown",
   "metadata": {
    "slideshow": {
     "slide_type": "fragment"
    }
   },
   "source": [
    "##### 모델들 생성"
   ]
  },
  {
   "cell_type": "code",
   "execution_count": 13,
   "metadata": {
    "ExecuteTime": {
     "end_time": "2021-11-19T08:24:39.999964Z",
     "start_time": "2021-11-19T08:24:39.984007Z"
    },
    "slideshow": {
     "slide_type": "fragment"
    }
   },
   "outputs": [],
   "source": [
    "knn_reg = KNeighborsRegressor(n_neighbors=3)\n",
    "tree_reg = DecisionTreeRegressor(max_depth=5)\n",
    "rf_reg = RandomForestRegressor(n_estimators=300, max_depth=2)\n",
    "gb_reg = GradientBoostingRegressor(n_estimators=200, max_depth=1)\n",
    "lr_reg = LinearRegression()\n",
    "\n",
    "estimators = [(\"knn\",knn_reg), ('decision tree',tree_reg), ('random forest',rf_reg), ('Gradient Boosting', gb_reg), ('linear reg',lr_reg)]"
   ]
  },
  {
   "cell_type": "markdown",
   "metadata": {
    "slideshow": {
     "slide_type": "slide"
    }
   },
   "source": [
    "##### 평가출력 함수"
   ]
  },
  {
   "cell_type": "code",
   "execution_count": 14,
   "metadata": {
    "ExecuteTime": {
     "end_time": "2021-11-19T08:24:40.015921Z",
     "start_time": "2021-11-19T08:24:40.000962Z"
    },
    "scrolled": true
   },
   "outputs": [
    {
     "name": "stdout",
     "output_type": "stream",
     "text": [
      "Overwriting util.py\n"
     ]
    }
   ],
   "source": [
    "%%writefile util.py\n",
    "# %%writefile 파일경로 - cell의 내용을 파일로 저장한다. 반드시 첫줄에 작성한다.\n",
    "\n",
    "import numpy as np\n",
    "from sklearn.metrics import (accuracy_score, recall_score,\n",
    "                             precision_score, f1_score,\n",
    "                            mean_squared_error, r2_score)\n",
    "\n",
    "def print_metrics(y, pred, title=None):\n",
    "    acc = accuracy_score(y, pred)\n",
    "    recall = recall_score(y, pred)\n",
    "    precision = precision_score(y, pred)\n",
    "    f1 = f1_score(y, pred)   \n",
    "    \n",
    "    if title:\n",
    "        print(title)\n",
    "    print(f'정확도: {acc}, recall: {recall}, Precision: {precision}, f1점수: {f1}')\n",
    "\n",
    "    \n",
    "def print_regression_metrics(y, y_pred, title=None):\n",
    "    mse = mean_squared_error(y, y_pred)\n",
    "    rmse = np.sqrt(mse)\n",
    "    r2 = r2_score(y, y_pred)\n",
    "    if title:\n",
    "        print(title)\n",
    "    print(f\"MSE:{mse}, RMSE:{rmse}, R Square:{r2}\")"
   ]
  },
  {
   "cell_type": "code",
   "execution_count": 15,
   "metadata": {
    "ExecuteTime": {
     "end_time": "2021-11-19T08:24:40.031916Z",
     "start_time": "2021-11-19T08:24:40.016919Z"
    }
   },
   "outputs": [],
   "source": [
    "#from util import print_regression_metrics as print_metrics\n",
    "from sklearn.metrics import accuracy_score\n"
   ]
  },
  {
   "cell_type": "markdown",
   "metadata": {
    "slideshow": {
     "slide_type": "fragment"
    }
   },
   "source": [
    "##### 모델 학습 및 평가"
   ]
  },
  {
   "cell_type": "code",
   "execution_count": 16,
   "metadata": {
    "ExecuteTime": {
     "end_time": "2021-11-19T08:24:40.047536Z",
     "start_time": "2021-11-19T08:24:40.032938Z"
    }
   },
   "outputs": [],
   "source": [
    "def print_metrics(y, y_pred, title=None):\n",
    "    mse = mean_squared_error(y, y_pred)\n",
    "    rmse = np.sqrt(mse)\n",
    "    r2 = r2_score(y, y_pred)\n",
    "    if title:\n",
    "        print(title)\n",
    "    print(f\"MSE:{mse}, RMSE:{rmse}, R Square:{r2}\")"
   ]
  },
  {
   "cell_type": "code",
   "execution_count": 17,
   "metadata": {
    "ExecuteTime": {
     "end_time": "2021-11-19T08:24:40.379649Z",
     "start_time": "2021-11-19T08:24:40.051534Z"
    },
    "slideshow": {
     "slide_type": "fragment"
    }
   },
   "outputs": [
    {
     "name": "stdout",
     "output_type": "stream",
     "text": [
      "knn - Train\n",
      "MSE:1427.767659021123, RMSE:37.785812933178015, R Square:0.8019417941941395\n",
      "knn - Test\n",
      "MSE:2864.855454376287, RMSE:53.52434450207015, R Square:0.6640766473771966\n",
      "-------------------------------------------\n",
      "decision tree - Train\n",
      "MSE:817.4625116301221, RMSE:28.59130132802846, R Square:0.8866025873719422\n",
      "decision tree - Test\n",
      "MSE:3301.0727964279786, RMSE:57.45496320099751, R Square:0.6129272632816158\n",
      "-------------------------------------------\n",
      "random forest - Train\n",
      "MSE:1697.1982640560145, RMSE:41.19706620690379, R Square:0.7645667059679615\n",
      "random forest - Test\n",
      "MSE:2914.78652868193, RMSE:53.988762985291025, R Square:0.6582218968852693\n",
      "-------------------------------------------\n",
      "Gradient Boosting - Train\n",
      "MSE:1378.1570809707919, RMSE:37.123538098769515, R Square:0.8088237136826204\n",
      "Gradient Boosting - Test\n",
      "MSE:2399.250662740208, RMSE:48.98214636722454, R Square:0.7186719053559923\n",
      "-------------------------------------------\n",
      "linear reg - Train\n",
      "MSE:2017.1792010802012, RMSE:44.9130181693482, R Square:0.7201793367215267\n",
      "linear reg - Test\n",
      "MSE:2368.5811126977082, RMSE:48.6680707723011, R Square:0.7222681140435795\n",
      "-------------------------------------------\n"
     ]
    }
   ],
   "source": [
    "for name, model in estimators:   # (이름, 객체)\n",
    "    model.fit(X_train, y_train)\n",
    "    pred_train = model.predict(X_train)\n",
    "    pred_test = model.predict(X_test)\n",
    "    \n",
    "    print_metrics(y_train, pred_train, name+\" - Train\")\n",
    "    print_metrics(y_test, pred_test, name+\" - Test\")\n",
    "    print(\"-------------------------------------------\")"
   ]
  },
  {
   "cell_type": "markdown",
   "metadata": {
    "slideshow": {
     "slide_type": "slide"
    }
   },
   "source": [
    "##### Voting\n",
    "- VotingRegressor \n",
    "    - 각 모델이 예측한 값의 평균을 반환한다."
   ]
  },
  {
   "cell_type": "code",
   "execution_count": 18,
   "metadata": {
    "ExecuteTime": {
     "end_time": "2021-11-19T08:24:40.585099Z",
     "start_time": "2021-11-19T08:24:40.379649Z"
    },
    "slideshow": {
     "slide_type": "fragment"
    }
   },
   "outputs": [],
   "source": [
    "knn_reg = KNeighborsRegressor(n_neighbors=3)\n",
    "tree_reg = DecisionTreeRegressor(max_depth=2)\n",
    "rf_reg = RandomForestRegressor(n_estimators=200, max_depth=2)\n",
    "gb_reg = GradientBoostingRegressor(n_estimators=200, max_depth=1)\n",
    "lr_reg = LinearRegression()\n",
    "\n",
    "estimators = [(\"knn\",knn_reg), ('random forest',rf_reg), ('Gradient Boosting', gb_reg), ('linear reg',lr_reg)]\n",
    "\n",
    "vote_reg = VotingRegressor(estimators)\n",
    "vote_reg.fit(X_train, y_train)\n",
    "pred_train = vote_reg.predict(X_train)\n",
    "pred_test = vote_reg.predict(X_test)"
   ]
  },
  {
   "cell_type": "code",
   "execution_count": 19,
   "metadata": {
    "ExecuteTime": {
     "end_time": "2021-11-19T08:24:40.601057Z",
     "start_time": "2021-11-19T08:24:40.586097Z"
    },
    "slideshow": {
     "slide_type": "fragment"
    }
   },
   "outputs": [
    {
     "name": "stdout",
     "output_type": "stream",
     "text": [
      "MSE:1507.825200909263, RMSE:38.83072495987247, R Square:0.7908363086430356\n",
      "MSE:2432.437469451874, RMSE:49.31974725656929, R Square:0.7147805315847964\n"
     ]
    }
   ],
   "source": [
    "print_metrics(y_train, pred_train)\n",
    "print_metrics(y_test, pred_test)"
   ]
  },
  {
   "cell_type": "markdown",
   "metadata": {
    "slideshow": {
     "slide_type": "slide"
    }
   },
   "source": [
    "##### DecisionTreeRegressor Tree 시각화"
   ]
  },
  {
   "cell_type": "code",
   "execution_count": 21,
   "metadata": {
    "ExecuteTime": {
     "end_time": "2021-11-19T08:24:42.778844Z",
     "start_time": "2021-11-19T08:24:42.774853Z"
    },
    "slideshow": {
     "slide_type": "fragment"
    }
   },
   "outputs": [],
   "source": [
    "tree_reg = DecisionTreeRegressor(max_depth=2)"
   ]
  },
  {
   "cell_type": "code",
   "execution_count": 22,
   "metadata": {
    "ExecuteTime": {
     "end_time": "2021-11-19T08:24:43.154839Z",
     "start_time": "2021-11-19T08:24:43.142871Z"
    },
    "slideshow": {
     "slide_type": "fragment"
    }
   },
   "outputs": [
    {
     "data": {
      "text/plain": [
       "DecisionTreeRegressor(max_depth=2)"
      ]
     },
     "execution_count": 22,
     "metadata": {},
     "output_type": "execute_result"
    }
   ],
   "source": [
    "tree_reg.fit(X_train, y_train)"
   ]
  },
  {
   "cell_type": "code",
   "execution_count": 23,
   "metadata": {
    "ExecuteTime": {
     "end_time": "2021-11-19T08:24:43.847253Z",
     "start_time": "2021-11-19T08:24:43.703544Z"
    },
    "slideshow": {
     "slide_type": "fragment"
    }
   },
   "outputs": [
    {
     "data": {
      "image/svg+xml": [
       "<svg xmlns=\"http://www.w3.org/2000/svg\" xmlns:xlink=\"http://www.w3.org/1999/xlink\" width=\"774pt\" height=\"269pt\" viewBox=\"0.00 0.00 773.50 269.00\">\n",
       "<g id=\"graph0\" class=\"graph\" transform=\"scale(1 1) rotate(0) translate(4 265)\">\n",
       "<title>Tree</title>\n",
       "<polygon fill=\"white\" stroke=\"transparent\" points=\"-4,4 -4,-265 769.5,-265 769.5,4 -4,4\"/>\n",
       "<!-- 0 -->\n",
       "<g id=\"node1\" class=\"node\">\n",
       "<title>0</title>\n",
       "<path fill=\"#eda673\" stroke=\"black\" d=\"M450.5,-261C450.5,-261 290.5,-261 290.5,-261 284.5,-261 278.5,-255 278.5,-249 278.5,-249 278.5,-205 278.5,-205 278.5,-199 284.5,-193 290.5,-193 290.5,-193 450.5,-193 450.5,-193 456.5,-193 462.5,-199 462.5,-205 462.5,-205 462.5,-249 462.5,-249 462.5,-255 456.5,-261 450.5,-261\"/>\n",
       "<text text-anchor=\"middle\" x=\"370.5\" y=\"-245.8\" font-family=\"Helvetica,sans-Serif\" font-size=\"14.00\">X[0] &lt;= 0.015</text>\n",
       "<text text-anchor=\"middle\" x=\"370.5\" y=\"-230.8\" font-family=\"Helvetica,sans-Serif\" font-size=\"14.00\">squared_error = 7208.829</text>\n",
       "<text text-anchor=\"middle\" x=\"370.5\" y=\"-215.8\" font-family=\"Helvetica,sans-Serif\" font-size=\"14.00\">samples = 80</text>\n",
       "<text text-anchor=\"middle\" x=\"370.5\" y=\"-200.8\" font-family=\"Helvetica,sans-Serif\" font-size=\"14.00\">value = 23.749</text>\n",
       "</g>\n",
       "<!-- 1 -->\n",
       "<g id=\"node2\" class=\"node\">\n",
       "<title>1</title>\n",
       "<path fill=\"#f2c19e\" stroke=\"black\" d=\"M349.5,-157C349.5,-157 189.5,-157 189.5,-157 183.5,-157 177.5,-151 177.5,-145 177.5,-145 177.5,-101 177.5,-101 177.5,-95 183.5,-89 189.5,-89 189.5,-89 349.5,-89 349.5,-89 355.5,-89 361.5,-95 361.5,-101 361.5,-101 361.5,-145 361.5,-145 361.5,-151 355.5,-157 349.5,-157\"/>\n",
       "<text text-anchor=\"middle\" x=\"269.5\" y=\"-141.8\" font-family=\"Helvetica,sans-Serif\" font-size=\"14.00\">X[0] &lt;= -1.601</text>\n",
       "<text text-anchor=\"middle\" x=\"269.5\" y=\"-126.8\" font-family=\"Helvetica,sans-Serif\" font-size=\"14.00\">squared_error = 2661.791</text>\n",
       "<text text-anchor=\"middle\" x=\"269.5\" y=\"-111.8\" font-family=\"Helvetica,sans-Serif\" font-size=\"14.00\">samples = 34</text>\n",
       "<text text-anchor=\"middle\" x=\"269.5\" y=\"-96.8\" font-family=\"Helvetica,sans-Serif\" font-size=\"14.00\">value = -46.023</text>\n",
       "</g>\n",
       "<!-- 0&#45;&gt;1 -->\n",
       "<g id=\"edge1\" class=\"edge\">\n",
       "<title>0-&gt;1</title>\n",
       "<path fill=\"none\" stroke=\"black\" d=\"M337.71,-192.88C328.8,-183.89 319.05,-174.04 309.78,-164.68\"/>\n",
       "<polygon fill=\"black\" stroke=\"black\" points=\"312,-161.94 302.47,-157.3 307.02,-166.87 312,-161.94\"/>\n",
       "<text text-anchor=\"middle\" x=\"302.35\" y=\"-178.6\" font-family=\"Helvetica,sans-Serif\" font-size=\"14.00\">True</text>\n",
       "</g>\n",
       "<!-- 4 -->\n",
       "<g id=\"node5\" class=\"node\">\n",
       "<title>4</title>\n",
       "<path fill=\"#e89153\" stroke=\"black\" d=\"M551.5,-157C551.5,-157 391.5,-157 391.5,-157 385.5,-157 379.5,-151 379.5,-145 379.5,-145 379.5,-101 379.5,-101 379.5,-95 385.5,-89 391.5,-89 391.5,-89 551.5,-89 551.5,-89 557.5,-89 563.5,-95 563.5,-101 563.5,-101 563.5,-145 563.5,-145 563.5,-151 557.5,-157 551.5,-157\"/>\n",
       "<text text-anchor=\"middle\" x=\"471.5\" y=\"-141.8\" font-family=\"Helvetica,sans-Serif\" font-size=\"14.00\">X[0] &lt;= 0.585</text>\n",
       "<text text-anchor=\"middle\" x=\"471.5\" y=\"-126.8\" font-family=\"Helvetica,sans-Serif\" font-size=\"14.00\">squared_error = 4311.951</text>\n",
       "<text text-anchor=\"middle\" x=\"471.5\" y=\"-111.8\" font-family=\"Helvetica,sans-Serif\" font-size=\"14.00\">samples = 46</text>\n",
       "<text text-anchor=\"middle\" x=\"471.5\" y=\"-96.8\" font-family=\"Helvetica,sans-Serif\" font-size=\"14.00\">value = 75.32</text>\n",
       "</g>\n",
       "<!-- 0&#45;&gt;4 -->\n",
       "<g id=\"edge4\" class=\"edge\">\n",
       "<title>0-&gt;4</title>\n",
       "<path fill=\"none\" stroke=\"black\" d=\"M403.29,-192.88C412.2,-183.89 421.95,-174.04 431.22,-164.68\"/>\n",
       "<polygon fill=\"black\" stroke=\"black\" points=\"433.98,-166.87 438.53,-157.3 429,-161.94 433.98,-166.87\"/>\n",
       "<text text-anchor=\"middle\" x=\"438.65\" y=\"-178.6\" font-family=\"Helvetica,sans-Serif\" font-size=\"14.00\">False</text>\n",
       "</g>\n",
       "<!-- 2 -->\n",
       "<g id=\"node3\" class=\"node\">\n",
       "<title>2</title>\n",
       "<path fill=\"#ffffff\" stroke=\"black\" d=\"M147,-53C147,-53 12,-53 12,-53 6,-53 0,-47 0,-41 0,-41 0,-12 0,-12 0,-6 6,0 12,0 12,0 147,0 147,0 153,0 159,-6 159,-12 159,-12 159,-41 159,-41 159,-47 153,-53 147,-53\"/>\n",
       "<text text-anchor=\"middle\" x=\"79.5\" y=\"-37.8\" font-family=\"Helvetica,sans-Serif\" font-size=\"14.00\">squared_error = 1.477</text>\n",
       "<text text-anchor=\"middle\" x=\"79.5\" y=\"-22.8\" font-family=\"Helvetica,sans-Serif\" font-size=\"14.00\">samples = 2</text>\n",
       "<text text-anchor=\"middle\" x=\"79.5\" y=\"-7.8\" font-family=\"Helvetica,sans-Serif\" font-size=\"14.00\">value = -204.015</text>\n",
       "</g>\n",
       "<!-- 1&#45;&gt;2 -->\n",
       "<g id=\"edge2\" class=\"edge\">\n",
       "<title>1-&gt;2</title>\n",
       "<path fill=\"none\" stroke=\"black\" d=\"M203.05,-88.95C182.54,-78.75 160.07,-67.57 139.99,-57.59\"/>\n",
       "<polygon fill=\"black\" stroke=\"black\" points=\"141.46,-54.41 130.94,-53.09 138.34,-60.67 141.46,-54.41\"/>\n",
       "</g>\n",
       "<!-- 3 -->\n",
       "<g id=\"node4\" class=\"node\">\n",
       "<title>3</title>\n",
       "<path fill=\"#f1bd97\" stroke=\"black\" d=\"M349.5,-53C349.5,-53 189.5,-53 189.5,-53 183.5,-53 177.5,-47 177.5,-41 177.5,-41 177.5,-12 177.5,-12 177.5,-6 183.5,0 189.5,0 189.5,0 349.5,0 349.5,0 355.5,0 361.5,-6 361.5,-12 361.5,-12 361.5,-41 361.5,-41 361.5,-47 355.5,-53 349.5,-53\"/>\n",
       "<text text-anchor=\"middle\" x=\"269.5\" y=\"-37.8\" font-family=\"Helvetica,sans-Serif\" font-size=\"14.00\">squared_error = 1170.454</text>\n",
       "<text text-anchor=\"middle\" x=\"269.5\" y=\"-22.8\" font-family=\"Helvetica,sans-Serif\" font-size=\"14.00\">samples = 32</text>\n",
       "<text text-anchor=\"middle\" x=\"269.5\" y=\"-7.8\" font-family=\"Helvetica,sans-Serif\" font-size=\"14.00\">value = -36.148</text>\n",
       "</g>\n",
       "<!-- 1&#45;&gt;3 -->\n",
       "<g id=\"edge3\" class=\"edge\">\n",
       "<title>1-&gt;3</title>\n",
       "<path fill=\"none\" stroke=\"black\" d=\"M269.5,-88.95C269.5,-80.72 269.5,-71.85 269.5,-63.48\"/>\n",
       "<polygon fill=\"black\" stroke=\"black\" points=\"273,-63.24 269.5,-53.24 266,-63.24 273,-63.24\"/>\n",
       "</g>\n",
       "<!-- 5 -->\n",
       "<g id=\"node6\" class=\"node\">\n",
       "<title>5</title>\n",
       "<path fill=\"#eca26c\" stroke=\"black\" d=\"M551.5,-53C551.5,-53 391.5,-53 391.5,-53 385.5,-53 379.5,-47 379.5,-41 379.5,-41 379.5,-12 379.5,-12 379.5,-6 385.5,0 391.5,0 391.5,0 551.5,0 551.5,0 557.5,0 563.5,-6 563.5,-12 563.5,-12 563.5,-41 563.5,-41 563.5,-47 557.5,-53 551.5,-53\"/>\n",
       "<text text-anchor=\"middle\" x=\"471.5\" y=\"-37.8\" font-family=\"Helvetica,sans-Serif\" font-size=\"14.00\">squared_error = 1469.287</text>\n",
       "<text text-anchor=\"middle\" x=\"471.5\" y=\"-22.8\" font-family=\"Helvetica,sans-Serif\" font-size=\"14.00\">samples = 23</text>\n",
       "<text text-anchor=\"middle\" x=\"471.5\" y=\"-7.8\" font-family=\"Helvetica,sans-Serif\" font-size=\"14.00\">value = 33.604</text>\n",
       "</g>\n",
       "<!-- 4&#45;&gt;5 -->\n",
       "<g id=\"edge5\" class=\"edge\">\n",
       "<title>4-&gt;5</title>\n",
       "<path fill=\"none\" stroke=\"black\" d=\"M471.5,-88.95C471.5,-80.72 471.5,-71.85 471.5,-63.48\"/>\n",
       "<polygon fill=\"black\" stroke=\"black\" points=\"475,-63.24 471.5,-53.24 468,-63.24 475,-63.24\"/>\n",
       "</g>\n",
       "<!-- 6 -->\n",
       "<g id=\"node7\" class=\"node\">\n",
       "<title>6</title>\n",
       "<path fill=\"#e58139\" stroke=\"black\" d=\"M753.5,-53C753.5,-53 593.5,-53 593.5,-53 587.5,-53 581.5,-47 581.5,-41 581.5,-41 581.5,-12 581.5,-12 581.5,-6 587.5,0 593.5,0 593.5,0 753.5,0 753.5,0 759.5,0 765.5,-6 765.5,-12 765.5,-12 765.5,-41 765.5,-41 765.5,-47 759.5,-53 753.5,-53\"/>\n",
       "<text text-anchor=\"middle\" x=\"673.5\" y=\"-37.8\" font-family=\"Helvetica,sans-Serif\" font-size=\"14.00\">squared_error = 3674.072</text>\n",
       "<text text-anchor=\"middle\" x=\"673.5\" y=\"-22.8\" font-family=\"Helvetica,sans-Serif\" font-size=\"14.00\">samples = 23</text>\n",
       "<text text-anchor=\"middle\" x=\"673.5\" y=\"-7.8\" font-family=\"Helvetica,sans-Serif\" font-size=\"14.00\">value = 117.037</text>\n",
       "</g>\n",
       "<!-- 4&#45;&gt;6 -->\n",
       "<g id=\"edge6\" class=\"edge\">\n",
       "<title>4-&gt;6</title>\n",
       "<path fill=\"none\" stroke=\"black\" d=\"M542.15,-88.95C564.05,-78.7 588.05,-67.47 609.48,-57.45\"/>\n",
       "<polygon fill=\"black\" stroke=\"black\" points=\"611.23,-60.49 618.81,-53.09 608.27,-54.15 611.23,-60.49\"/>\n",
       "</g>\n",
       "</g>\n",
       "</svg>"
      ],
      "text/plain": [
       "<IPython.core.display.SVG object>"
      ]
     },
     "metadata": {},
     "output_type": "display_data"
    }
   ],
   "source": [
    "from sklearn.tree import export_graphviz\n",
    "from graphviz import Source\n",
    "from IPython.display import SVG\n",
    "graph = Source(export_graphviz(tree_reg, \n",
    "                               out_file=None,\n",
    "                               rounded=True, filled=True))\n",
    "display(SVG(graph.pipe(format='svg')))"
   ]
  }
 ],
 "metadata": {
  "kernelspec": {
   "display_name": "Python 3 (ipykernel)",
   "language": "python",
   "name": "python3"
  },
  "language_info": {
   "codemirror_mode": {
    "name": "ipython",
    "version": 3
   },
   "file_extension": ".py",
   "mimetype": "text/x-python",
   "name": "python",
   "nbconvert_exporter": "python",
   "pygments_lexer": "ipython3",
   "version": "3.8.12"
  },
  "toc": {
   "base_numbering": 1,
   "nav_menu": {},
   "number_sections": false,
   "sideBar": true,
   "skip_h1_title": false,
   "title_cell": "Table of Contents",
   "title_sidebar": "Contents",
   "toc_cell": false,
   "toc_position": {},
   "toc_section_display": true,
   "toc_window_display": false
  },
  "varInspector": {
   "cols": {
    "lenName": 16,
    "lenType": 16,
    "lenVar": 40
   },
   "kernels_config": {
    "python": {
     "delete_cmd_postfix": "",
     "delete_cmd_prefix": "del ",
     "library": "var_list.py",
     "varRefreshCmd": "print(var_dic_list())"
    },
    "r": {
     "delete_cmd_postfix": ") ",
     "delete_cmd_prefix": "rm(",
     "library": "var_list.r",
     "varRefreshCmd": "cat(var_dic_list()) "
    }
   },
   "types_to_exclude": [
    "module",
    "function",
    "builtin_function_or_method",
    "instance",
    "_Feature"
   ],
   "window_display": false
  }
 },
 "nbformat": 4,
 "nbformat_minor": 2
}
