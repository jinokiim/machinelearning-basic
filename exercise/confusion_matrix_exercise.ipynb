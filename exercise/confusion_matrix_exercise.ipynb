{
 "cells": [
  {
   "cell_type": "code",
   "execution_count": 1,
   "id": "51ad9c70",
   "metadata": {
    "ExecuteTime": {
     "end_time": "2021-11-15T00:18:23.045701Z",
     "start_time": "2021-11-15T00:18:19.700921Z"
    }
   },
   "outputs": [],
   "source": [
    "import pandas as pd\n",
    "import numpy as np\n",
    "import matplotlib.pyplot as plt\n",
    "from sklearn.datasets import load_digits"
   ]
  },
  {
   "cell_type": "markdown",
   "id": "fdccc52a",
   "metadata": {
    "ExecuteTime": {
     "end_time": "2021-11-12T07:55:07.559203Z",
     "start_time": "2021-11-12T07:55:07.544384Z"
    }
   },
   "source": [
    "### 머신 모델을 이용해 학습\n",
    "- DecisionTreeClassifier 사용(max_depth=3)\n",
    "- 모델생성\n",
    "- 학습(train)\n",
    "- 평가(train/test)\n",
    "    - accuracy, recall, precision, f1 score, confusion_matrix 확인"
   ]
  },
  {
   "cell_type": "code",
   "execution_count": 2,
   "id": "46f7f883",
   "metadata": {
    "ExecuteTime": {
     "end_time": "2021-11-15T00:18:23.140773Z",
     "start_time": "2021-11-15T00:18:23.061941Z"
    }
   },
   "outputs": [
    {
     "data": {
      "text/plain": [
       "dict_keys(['data', 'target', 'frame', 'feature_names', 'target_names', 'images', 'DESCR'])"
      ]
     },
     "execution_count": 2,
     "metadata": {},
     "output_type": "execute_result"
    }
   ],
   "source": [
    "digits = load_digits()\n",
    "digits.keys()"
   ]
  },
  {
   "cell_type": "code",
   "execution_count": 3,
   "id": "5ecdaf32",
   "metadata": {
    "ExecuteTime": {
     "end_time": "2021-11-15T00:18:23.172671Z",
     "start_time": "2021-11-15T00:18:23.157369Z"
    }
   },
   "outputs": [
    {
     "data": {
      "text/plain": [
       "((1797, 64), (1797,))"
      ]
     },
     "execution_count": 3,
     "metadata": {},
     "output_type": "execute_result"
    }
   ],
   "source": [
    "X = digits.data\n",
    "y = digits.target\n",
    "X.shape, y.shape"
   ]
  },
  {
   "cell_type": "code",
   "execution_count": 4,
   "id": "b6d290f9",
   "metadata": {
    "ExecuteTime": {
     "end_time": "2021-11-15T00:18:23.889130Z",
     "start_time": "2021-11-15T00:18:23.876165Z"
    }
   },
   "outputs": [
    {
     "data": {
      "text/plain": [
       "(array([0, 1, 2, 3, 4, 5, 6, 7, 8, 9]),\n",
       " array([178, 182, 177, 183, 181, 182, 181, 179, 174, 180], dtype=int64))"
      ]
     },
     "execution_count": 4,
     "metadata": {},
     "output_type": "execute_result"
    }
   ],
   "source": [
    "np.unique(y, return_counts=True)   # (고유값배열, 개수)"
   ]
  },
  {
   "cell_type": "code",
   "execution_count": 5,
   "id": "f01a5a11",
   "metadata": {
    "ExecuteTime": {
     "end_time": "2021-11-15T00:18:24.246341Z",
     "start_time": "2021-11-15T00:18:24.228188Z"
    }
   },
   "outputs": [
    {
     "data": {
      "text/plain": [
       "array([0, 0, 0, ..., 0, 1, 0])"
      ]
     },
     "execution_count": 5,
     "metadata": {},
     "output_type": "execute_result"
    }
   ],
   "source": [
    "y = np.where(y==9, 1, 0)\n",
    "y"
   ]
  },
  {
   "cell_type": "code",
   "execution_count": 6,
   "id": "459f92a4",
   "metadata": {
    "ExecuteTime": {
     "end_time": "2021-11-15T00:18:24.604767Z",
     "start_time": "2021-11-15T00:18:24.595817Z"
    }
   },
   "outputs": [
    {
     "data": {
      "text/plain": [
       "(array([0, 1]), array([1617,  180], dtype=int64))"
      ]
     },
     "execution_count": 6,
     "metadata": {},
     "output_type": "execute_result"
    }
   ],
   "source": [
    "y_pct = np.unique(y, return_counts=True)\n",
    "y_pct"
   ]
  },
  {
   "cell_type": "code",
   "execution_count": 7,
   "id": "7f4c7758",
   "metadata": {
    "ExecuteTime": {
     "end_time": "2021-11-15T00:18:25.055746Z",
     "start_time": "2021-11-15T00:18:25.043777Z"
    }
   },
   "outputs": [
    {
     "data": {
      "text/plain": [
       "array([0.89983306, 0.10016694])"
      ]
     },
     "execution_count": 7,
     "metadata": {},
     "output_type": "execute_result"
    }
   ],
   "source": [
    "y_pct[1]/y.size "
   ]
  },
  {
   "cell_type": "code",
   "execution_count": 34,
   "id": "760ff64f",
   "metadata": {
    "ExecuteTime": {
     "end_time": "2021-11-15T01:10:35.108615Z",
     "start_time": "2021-11-15T01:10:35.092983Z"
    }
   },
   "outputs": [
    {
     "name": "stdout",
     "output_type": "stream",
     "text": [
      "(1437, 64) (1437, 64) (1437,) (360,)\n",
      "(array([0, 1, 2, 3, 4, 5, 6, 7, 8, 9]), array([178, 182, 177, 183, 181, 182, 181, 179, 174, 180], dtype=int64))\n",
      "(array([0, 1]), array([1293,  144], dtype=int64))\n"
     ]
    }
   ],
   "source": [
    "from sklearn.tree import DecisionTreeClassifier\n",
    "from sklearn.ensemble import RandomForestClassifier\n",
    "from sklearn.metrics import accuracy_score, recall_score, precision_score, f1_score, confusion_matrix, ConfusionMatrixDisplay\n",
    "from sklearn.model_selection import train_test_split\n",
    "\n",
    "X_train, X_test,y_train, y_test = train_test_split(X, y,\n",
    "                                                  test_size=0.2,\n",
    "                                                  random_state=0,\n",
    "                                                  stratify=digits.target)\n",
    "\n",
    "print(X_train.shape, X_train.shape, y_train.shape, y_test.shape)\n",
    "print(np.unique(digits.target, return_counts=True))  # return_counts=True : 갯수표시\n",
    "print(np.unique(y_train, return_counts=True))"
   ]
  },
  {
   "cell_type": "markdown",
   "id": "60b3d9e2",
   "metadata": {},
   "source": [
    "##### 모델생성"
   ]
  },
  {
   "cell_type": "code",
   "execution_count": 35,
   "id": "2fd1a4dc",
   "metadata": {
    "ExecuteTime": {
     "end_time": "2021-11-15T01:14:18.621092Z",
     "start_time": "2021-11-15T01:14:18.613099Z"
    }
   },
   "outputs": [],
   "source": [
    "tree = DecisionTreeClassifier(max_depth=3, random_state=0)\n",
    "rf = RandomForestClassifier(n_estimators=100, max_depth=3, random_state=0)"
   ]
  },
  {
   "cell_type": "code",
   "execution_count": 36,
   "id": "de114ea1",
   "metadata": {
    "ExecuteTime": {
     "end_time": "2021-11-15T01:16:13.011677Z",
     "start_time": "2021-11-15T01:16:12.867689Z"
    }
   },
   "outputs": [
    {
     "data": {
      "text/plain": [
       "RandomForestClassifier(max_depth=3, random_state=0)"
      ]
     },
     "execution_count": 36,
     "metadata": {},
     "output_type": "execute_result"
    }
   ],
   "source": [
    "tree.fit(X_train, y_train)\n",
    "rf.fit(X_train, y_train)"
   ]
  },
  {
   "cell_type": "markdown",
   "id": "1a2a9a0d",
   "metadata": {},
   "source": [
    "##### 추론"
   ]
  },
  {
   "cell_type": "code",
   "execution_count": 45,
   "id": "f141c087",
   "metadata": {
    "ExecuteTime": {
     "end_time": "2021-11-15T01:24:52.836108Z",
     "start_time": "2021-11-15T01:24:52.805018Z"
    }
   },
   "outputs": [],
   "source": [
    "pred_train_tree = tree.predict(X_train)\n",
    "pred_test_tree = tree.predict(X_test)\n",
    "\n",
    "pred_train_rf = rf.predict(X_train)\n",
    "pred_test_rf = rf.predict(X_test)"
   ]
  },
  {
   "cell_type": "code",
   "execution_count": 46,
   "id": "3a3044d7",
   "metadata": {
    "ExecuteTime": {
     "end_time": "2021-11-15T01:24:53.196200Z",
     "start_time": "2021-11-15T01:24:53.188223Z"
    },
    "scrolled": true
   },
   "outputs": [
    {
     "name": "stdout",
     "output_type": "stream",
     "text": [
      "Tree\n",
      "[[1249   44]\n",
      " [  29  115]]\n",
      "------------------------------\n",
      "[[314  10]\n",
      " [  8  28]]\n"
     ]
    }
   ],
   "source": [
    "# confusion matrix\n",
    "print('Tree')\n",
    "print(confusion_matrix(y_train, pred_train_tree))\n",
    "print('-'*30)\n",
    "print(confusion_matrix(y_test, pred_test_tree))"
   ]
  },
  {
   "cell_type": "code",
   "execution_count": 75,
   "id": "04532e34",
   "metadata": {
    "ExecuteTime": {
     "end_time": "2021-11-15T01:47:15.678356Z",
     "start_time": "2021-11-15T01:47:15.670379Z"
    }
   },
   "outputs": [
    {
     "name": "stdout",
     "output_type": "stream",
     "text": [
      "RF\n",
      "[[1293    0]\n",
      " [  97   47]]\n",
      "------------------------------\n",
      "[[324   0]\n",
      " [ 29   7]]\n"
     ]
    }
   ],
   "source": [
    "# confusion matrix\n",
    "print('RF')\n",
    "print(confusion_matrix(y_train, pred_train_rf))\n",
    "print('-'*30)\n",
    "print(confusion_matrix(y_test, pred_test_rf))"
   ]
  },
  {
   "cell_type": "code",
   "execution_count": 63,
   "id": "53bc3248",
   "metadata": {
    "ExecuteTime": {
     "end_time": "2021-11-15T01:43:15.451410Z",
     "start_time": "2021-11-15T01:43:15.445426Z"
    }
   },
   "outputs": [],
   "source": [
    "# RandomForest\n",
    "def display_cm(y, pred, title):\n",
    "    \"\"\"\n",
    "    Confusion Matrix 시각화 함수\n",
    "    [Parameter]\n",
    "        y: ndarray - 정답(Ground Truth)\n",
    "        pred: ndarray - 모델이 예측한 값\n",
    "        title: str - 그래프의 제목\n",
    "    [Return]\n",
    "    [Exception]    \n",
    "    \"\"\"\n",
    "    plt.figure(figsize=(7,6))\n",
    "    ax = plt.gca()\n",
    "\n",
    "    cm = confusion_matrix(y, pred)\n",
    "    disp = ConfusionMatrixDisplay(cm)\n",
    "    disp.plot(cmap=('Blues'), ax=ax)\n",
    "    plt.title(title)\n",
    "    plt.show()"
   ]
  },
  {
   "cell_type": "code",
   "execution_count": 64,
   "id": "30ba8103",
   "metadata": {
    "ExecuteTime": {
     "end_time": "2021-11-15T01:43:17.123886Z",
     "start_time": "2021-11-15T01:43:16.997043Z"
    },
    "scrolled": true
   },
   "outputs": [
    {
     "data": {
      "image/png": "[encoded data removed]",
      "text/plain": [
       "<Figure size 504x432 with 2 Axes>"
      ]
     },
     "metadata": {
      "needs_background": "light"
     },
     "output_type": "display_data"
    }
   ],
   "source": [
    "display_cm(y_test, pred_test_tree, 'Tree Test confusion matrix')"
   ]
  },
  {
   "cell_type": "code",
   "execution_count": 65,
   "id": "936b8bd7",
   "metadata": {
    "ExecuteTime": {
     "end_time": "2021-11-15T01:43:52.049875Z",
     "start_time": "2021-11-15T01:43:51.925518Z"
    }
   },
   "outputs": [
    {
     "data": {
      "image/png": "[encoded data removed]",
      "text/plain": [
       "<Figure size 504x432 with 2 Axes>"
      ]
     },
     "metadata": {
      "needs_background": "light"
     },
     "output_type": "display_data"
    }
   ],
   "source": [
    "display_cm(y_test, pred_test_rf, 'RF Test confusion matrix')"
   ]
  },
  {
   "cell_type": "markdown",
   "id": "a34bf66e",
   "metadata": {},
   "source": [
    "##### 학습"
   ]
  },
  {
   "cell_type": "code",
   "execution_count": 10,
   "id": "9cf74209",
   "metadata": {
    "ExecuteTime": {
     "end_time": "2021-11-15T00:18:27.611455Z",
     "start_time": "2021-11-15T00:18:27.588402Z"
    }
   },
   "outputs": [
    {
     "data": {
      "text/plain": [
       "DecisionTreeClassifier(max_depth=3)"
      ]
     },
     "execution_count": 10,
     "metadata": {},
     "output_type": "execute_result"
    }
   ],
   "source": [
    "dt_clf.fit(X_train, y_train)"
   ]
  },
  {
   "cell_type": "markdown",
   "id": "7d4bdd45",
   "metadata": {},
   "source": [
    "##### 평가"
   ]
  },
  {
   "cell_type": "markdown",
   "id": "4683aaea",
   "metadata": {},
   "source": [
    "accuracy, recall, precision, f1 score, confusion_matrix 확인"
   ]
  },
  {
   "cell_type": "code",
   "execution_count": 67,
   "id": "87916b31",
   "metadata": {
    "ExecuteTime": {
     "end_time": "2021-11-15T01:44:13.764415Z",
     "start_time": "2021-11-15T01:44:13.749366Z"
    }
   },
   "outputs": [],
   "source": [
    "def print_metrics_classifier(y, pred, title):\n",
    "    \"\"\"\n",
    "    accuracy, recall, precision, f1 점수를 출력하는 함수\n",
    "    [Paremetre]\n",
    "        y: ndarray - 정답(Ground Truth)\n",
    "        pred: ndarray - 모델이 예측한 값\n",
    "        title: str - 제목\n",
    "    [Returen]\n",
    "    [Exception]\n",
    "    \"\"\"\n",
    "    print(title)\n",
    "    print('정확도(Accuracy): ', accuracy_score(y, pred))\n",
    "    print('재현률(Recall): ', recall_score(y, pred))\n",
    "    print('F1점수: ', f1_score(y, pred))"
   ]
  },
  {
   "cell_type": "code",
   "execution_count": 70,
   "id": "d45662c6",
   "metadata": {
    "ExecuteTime": {
     "end_time": "2021-11-15T01:46:01.922279Z",
     "start_time": "2021-11-15T01:46:01.910297Z"
    }
   },
   "outputs": [
    {
     "name": "stdout",
     "output_type": "stream",
     "text": [
      "tree-train\n",
      "정확도(Accuracy):  0.9491997216423104\n",
      "재현률(Recall):  0.7986111111111112\n",
      "F1점수:  0.759075907590759\n"
     ]
    }
   ],
   "source": [
    "print_metrics_classifier(y_train, pred_train_tree, 'tree-train')"
   ]
  },
  {
   "cell_type": "code",
   "execution_count": 72,
   "id": "21a68a0c",
   "metadata": {
    "ExecuteTime": {
     "end_time": "2021-11-15T01:46:12.371885Z",
     "start_time": "2021-11-15T01:46:12.357923Z"
    }
   },
   "outputs": [
    {
     "name": "stdout",
     "output_type": "stream",
     "text": [
      "tree-test\n",
      "정확도(Accuracy):  0.95\n",
      "재현률(Recall):  0.7777777777777778\n",
      "F1점수:  0.7567567567567567\n"
     ]
    }
   ],
   "source": [
    "print_metrics_classifier(y_test, pred_test_tree, 'tree-test')"
   ]
  },
  {
   "cell_type": "code",
   "execution_count": 73,
   "id": "b13aed50",
   "metadata": {
    "ExecuteTime": {
     "end_time": "2021-11-15T01:46:23.546763Z",
     "start_time": "2021-11-15T01:46:23.540780Z"
    }
   },
   "outputs": [
    {
     "name": "stdout",
     "output_type": "stream",
     "text": [
      "rf-train\n",
      "정확도(Accuracy):  0.9324982602644398\n",
      "재현률(Recall):  0.3263888888888889\n",
      "F1점수:  0.49214659685863876\n"
     ]
    }
   ],
   "source": [
    "print_metrics_classifier(y_train, pred_train_rf, 'rf-train')"
   ]
  },
  {
   "cell_type": "code",
   "execution_count": 74,
   "id": "fdf4ceee",
   "metadata": {
    "ExecuteTime": {
     "end_time": "2021-11-15T01:46:39.645343Z",
     "start_time": "2021-11-15T01:46:39.637364Z"
    }
   },
   "outputs": [
    {
     "name": "stdout",
     "output_type": "stream",
     "text": [
      "rf-test\n",
      "정확도(Accuracy):  0.9194444444444444\n",
      "재현률(Recall):  0.19444444444444445\n",
      "F1점수:  0.32558139534883723\n"
     ]
    }
   ],
   "source": [
    "print_metrics_classifier(y_test, pred_test_rf, 'rf-test')"
   ]
  }
 ],
 "metadata": {
  "kernelspec": {
   "display_name": "Python 3 (ipykernel)",
   "language": "python",
   "name": "python3"
  },
  "language_info": {
   "codemirror_mode": {
    "name": "ipython",
    "version": 3
   },
   "file_extension": ".py",
   "mimetype": "text/x-python",
   "name": "python",
   "nbconvert_exporter": "python",
   "pygments_lexer": "ipython3",
   "version": "3.8.12"
  },
  "toc": {
   "base_numbering": 1,
   "nav_menu": {},
   "number_sections": true,
   "sideBar": true,
   "skip_h1_title": false,
   "title_cell": "Table of Contents",
   "title_sidebar": "Contents",
   "toc_cell": false,
   "toc_position": {},
   "toc_section_display": true,
   "toc_window_display": false
  },
  "varInspector": {
   "cols": {
    "lenName": 16,
    "lenType": 16,
    "lenVar": 40
   },
   "kernels_config": {
    "python": {
     "delete_cmd_postfix": "",
     "delete_cmd_prefix": "del ",
     "library": "var_list.py",
     "varRefreshCmd": "print(var_dic_list())"
    },
    "r": {
     "delete_cmd_postfix": ") ",
     "delete_cmd_prefix": "rm(",
     "library": "var_list.r",
     "varRefreshCmd": "cat(var_dic_list()) "
    }
   },
   "types_to_exclude": [
    "module",
    "function",
    "builtin_function_or_method",
    "instance",
    "_Feature"
   ],
   "window_display": false
  }
 },
 "nbformat": 4,
 "nbformat_minor": 5
}
