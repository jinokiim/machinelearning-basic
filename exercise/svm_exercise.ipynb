{
 "cells": [
  {
   "cell_type": "markdown",
   "id": "050872a3",
   "metadata": {},
   "source": [
    "# iris DataSet으로 분류 \n",
    "- 다중 클래스 분류\n",
    "- svm\n",
    "    - GridSearch를 이용해서 최적의 C, gamma \n",
    "    - 평가지표: 정확도"
   ]
  },
  {
   "cell_type": "code",
   "execution_count": 1,
   "id": "b70329ce",
   "metadata": {
    "ExecuteTime": {
     "end_time": "2021-11-18T08:42:16.988036Z",
     "start_time": "2021-11-18T08:42:16.326739Z"
    }
   },
   "outputs": [],
   "source": [
    "from sklearn.datasets import load_iris\n",
    "import numpy as np\n",
    "import pandas as pd\n",
    "from sklearn.svm import SVC\n",
    "from sklearn.model_selection import GridSearchCV, train_test_split\n",
    "from sklearn.preprocessing import StandardScaler, MinMaxScaler\n",
    "from sklearn.pipeline import Pipeline\n",
    "from sklearn.metrics import accuracy_score\n",
    "from sklearn.metrics import confusion_matrix\n"
   ]
  },
  {
   "cell_type": "markdown",
   "id": "2679343d",
   "metadata": {},
   "source": [
    "##### 데이터셋 로드 및 train/test set 나누기"
   ]
  },
  {
   "cell_type": "code",
   "execution_count": 2,
   "id": "f6ba9bf9",
   "metadata": {
    "ExecuteTime": {
     "end_time": "2021-11-18T08:42:17.017822Z",
     "start_time": "2021-11-18T08:42:17.003995Z"
    }
   },
   "outputs": [],
   "source": [
    "X, y = load_iris(return_X_y=True)\n",
    "\n",
    "X_train, X_test, y_train, y_test = train_test_split(X,y, stratify=y,\n",
    "                                                    random_state=930)"
   ]
  },
  {
   "cell_type": "markdown",
   "id": "49c50353",
   "metadata": {},
   "source": [
    "##### 파이프라인 생성"
   ]
  },
  {
   "cell_type": "code",
   "execution_count": 3,
   "id": "d29ca62c",
   "metadata": {
    "ExecuteTime": {
     "end_time": "2021-11-18T08:42:17.746653Z",
     "start_time": "2021-11-18T08:42:17.727819Z"
    }
   },
   "outputs": [],
   "source": [
    "order = [\n",
    "    ('scaler', StandardScaler()),\n",
    "    ('svc', SVC(random_state=0))\n",
    "]\n",
    "pipeline = Pipeline(order, verbose=True)"
   ]
  },
  {
   "cell_type": "markdown",
   "id": "4ec02ce7",
   "metadata": {},
   "source": [
    "##### GridSearchCV 생성 및 학습"
   ]
  },
  {
   "cell_type": "code",
   "execution_count": 6,
   "id": "8f9b46bf",
   "metadata": {
    "ExecuteTime": {
     "end_time": "2021-11-18T08:42:49.667516Z",
     "start_time": "2021-11-18T08:42:49.648568Z"
    }
   },
   "outputs": [],
   "source": [
    "param = {\n",
    "    'svc__kernel': ['rbf', 'linear'],\n",
    "    'svc__C':[0.001, 0.01, 0.1, 1, 10, 100],\n",
    "    'svc__gamma':[0.001, 0.01, 0.1, 1, 10]\n",
    "}\n",
    "\n",
    "gs = GridSearchCV(pipeline,\n",
    "                  param,\n",
    "                  scoring='accuracy',\n",
    "                  cv=5,\n",
    "                  n_jobs=-1)"
   ]
  },
  {
   "cell_type": "code",
   "execution_count": 7,
   "id": "0bcf44dc",
   "metadata": {
    "ExecuteTime": {
     "end_time": "2021-11-18T08:42:51.299731Z",
     "start_time": "2021-11-18T08:42:50.286628Z"
    }
   },
   "outputs": [
    {
     "name": "stdout",
     "output_type": "stream",
     "text": [
      "[Pipeline] ............ (step 1 of 2) Processing scaler, total=   0.0s\n",
      "[Pipeline] ............... (step 2 of 2) Processing svc, total=   0.0s\n"
     ]
    },
    {
     "data": {
      "text/plain": [
       "GridSearchCV(cv=5,\n",
       "             estimator=Pipeline(steps=[('scaler', StandardScaler()),\n",
       "                                       ('svc', SVC(random_state=0))],\n",
       "                                verbose=True),\n",
       "             n_jobs=-1,\n",
       "             param_grid={'svc__C': [0.001, 0.01, 0.1, 1, 10, 100],\n",
       "                         'svc__gamma': [0.001, 0.01, 0.1, 1, 10],\n",
       "                         'svc__kernel': ['rbf', 'linear']},\n",
       "             scoring='accuracy')"
      ]
     },
     "execution_count": 7,
     "metadata": {},
     "output_type": "execute_result"
    }
   ],
   "source": [
    "gs.fit(X_train, y_train)"
   ]
  },
  {
   "cell_type": "markdown",
   "id": "27068149",
   "metadata": {},
   "source": [
    "#####  결과확인"
   ]
  },
  {
   "cell_type": "code",
   "execution_count": 8,
   "id": "a2aaffbb",
   "metadata": {
    "ExecuteTime": {
     "end_time": "2021-11-18T08:42:55.574704Z",
     "start_time": "2021-11-18T08:42:55.567724Z"
    }
   },
   "outputs": [
    {
     "data": {
      "text/plain": [
       "{'svc__C': 1, 'svc__gamma': 0.001, 'svc__kernel': 'linear'}"
      ]
     },
     "execution_count": 8,
     "metadata": {},
     "output_type": "execute_result"
    }
   ],
   "source": [
    "gs.best_params_"
   ]
  },
  {
   "cell_type": "code",
   "execution_count": 9,
   "id": "9949f513",
   "metadata": {
    "ExecuteTime": {
     "end_time": "2021-11-18T08:42:56.124732Z",
     "start_time": "2021-11-18T08:42:56.111784Z"
    }
   },
   "outputs": [
    {
     "data": {
      "text/plain": [
       "0.9735177865612649"
      ]
     },
     "execution_count": 9,
     "metadata": {},
     "output_type": "execute_result"
    }
   ],
   "source": [
    "gs.best_score_"
   ]
  },
  {
   "cell_type": "code",
   "execution_count": 10,
   "id": "7eae8e3f",
   "metadata": {
    "ExecuteTime": {
     "end_time": "2021-11-18T08:42:59.779095Z",
     "start_time": "2021-11-18T08:42:59.743765Z"
    }
   },
   "outputs": [
    {
     "data": {
      "text/html": [
       "<div>\n",
       "<style scoped>\n",
       "    .dataframe tbody tr th:only-of-type {\n",
       "        vertical-align: middle;\n",
       "    }\n",
       "\n",
       "    .dataframe tbody tr th {\n",
       "        vertical-align: top;\n",
       "    }\n",
       "\n",
       "    .dataframe thead th {\n",
       "        text-align: right;\n",
       "    }\n",
       "</style>\n",
       "<table border=\"1\" class=\"dataframe\">\n",
       "  <thead>\n",
       "    <tr style=\"text-align: right;\">\n",
       "      <th></th>\n",
       "      <th>mean_fit_time</th>\n",
       "      <th>std_fit_time</th>\n",
       "      <th>mean_score_time</th>\n",
       "      <th>std_score_time</th>\n",
       "      <th>param_svc__C</th>\n",
       "      <th>param_svc__gamma</th>\n",
       "      <th>param_svc__kernel</th>\n",
       "      <th>params</th>\n",
       "      <th>split0_test_score</th>\n",
       "      <th>split1_test_score</th>\n",
       "      <th>split2_test_score</th>\n",
       "      <th>split3_test_score</th>\n",
       "      <th>split4_test_score</th>\n",
       "      <th>mean_test_score</th>\n",
       "      <th>std_test_score</th>\n",
       "      <th>rank_test_score</th>\n",
       "    </tr>\n",
       "  </thead>\n",
       "  <tbody>\n",
       "    <tr>\n",
       "      <th>31</th>\n",
       "      <td>0.001596</td>\n",
       "      <td>0.000489</td>\n",
       "      <td>0.000399</td>\n",
       "      <td>0.000489</td>\n",
       "      <td>1</td>\n",
       "      <td>0.001</td>\n",
       "      <td>linear</td>\n",
       "      <td>{'svc__C': 1, 'svc__gamma': 0.001, 'svc__kerne...</td>\n",
       "      <td>1.0</td>\n",
       "      <td>0.913043</td>\n",
       "      <td>0.954545</td>\n",
       "      <td>1.0</td>\n",
       "      <td>1.0</td>\n",
       "      <td>0.973518</td>\n",
       "      <td>0.034989</td>\n",
       "      <td>1</td>\n",
       "    </tr>\n",
       "    <tr>\n",
       "      <th>33</th>\n",
       "      <td>0.002194</td>\n",
       "      <td>0.000977</td>\n",
       "      <td>0.000599</td>\n",
       "      <td>0.000489</td>\n",
       "      <td>1</td>\n",
       "      <td>0.01</td>\n",
       "      <td>linear</td>\n",
       "      <td>{'svc__C': 1, 'svc__gamma': 0.01, 'svc__kernel...</td>\n",
       "      <td>1.0</td>\n",
       "      <td>0.913043</td>\n",
       "      <td>0.954545</td>\n",
       "      <td>1.0</td>\n",
       "      <td>1.0</td>\n",
       "      <td>0.973518</td>\n",
       "      <td>0.034989</td>\n",
       "      <td>1</td>\n",
       "    </tr>\n",
       "    <tr>\n",
       "      <th>35</th>\n",
       "      <td>0.001396</td>\n",
       "      <td>0.000489</td>\n",
       "      <td>0.000598</td>\n",
       "      <td>0.000489</td>\n",
       "      <td>1</td>\n",
       "      <td>0.1</td>\n",
       "      <td>linear</td>\n",
       "      <td>{'svc__C': 1, 'svc__gamma': 0.1, 'svc__kernel'...</td>\n",
       "      <td>1.0</td>\n",
       "      <td>0.913043</td>\n",
       "      <td>0.954545</td>\n",
       "      <td>1.0</td>\n",
       "      <td>1.0</td>\n",
       "      <td>0.973518</td>\n",
       "      <td>0.034989</td>\n",
       "      <td>1</td>\n",
       "    </tr>\n",
       "    <tr>\n",
       "      <th>37</th>\n",
       "      <td>0.001997</td>\n",
       "      <td>0.000006</td>\n",
       "      <td>0.000199</td>\n",
       "      <td>0.000399</td>\n",
       "      <td>1</td>\n",
       "      <td>1</td>\n",
       "      <td>linear</td>\n",
       "      <td>{'svc__C': 1, 'svc__gamma': 1, 'svc__kernel': ...</td>\n",
       "      <td>1.0</td>\n",
       "      <td>0.913043</td>\n",
       "      <td>0.954545</td>\n",
       "      <td>1.0</td>\n",
       "      <td>1.0</td>\n",
       "      <td>0.973518</td>\n",
       "      <td>0.034989</td>\n",
       "      <td>1</td>\n",
       "    </tr>\n",
       "    <tr>\n",
       "      <th>39</th>\n",
       "      <td>0.001197</td>\n",
       "      <td>0.000399</td>\n",
       "      <td>0.000399</td>\n",
       "      <td>0.000489</td>\n",
       "      <td>1</td>\n",
       "      <td>10</td>\n",
       "      <td>linear</td>\n",
       "      <td>{'svc__C': 1, 'svc__gamma': 10, 'svc__kernel':...</td>\n",
       "      <td>1.0</td>\n",
       "      <td>0.913043</td>\n",
       "      <td>0.954545</td>\n",
       "      <td>1.0</td>\n",
       "      <td>1.0</td>\n",
       "      <td>0.973518</td>\n",
       "      <td>0.034989</td>\n",
       "      <td>1</td>\n",
       "    </tr>\n",
       "    <tr>\n",
       "      <th>52</th>\n",
       "      <td>0.002194</td>\n",
       "      <td>0.000977</td>\n",
       "      <td>0.000399</td>\n",
       "      <td>0.000488</td>\n",
       "      <td>100</td>\n",
       "      <td>0.01</td>\n",
       "      <td>rbf</td>\n",
       "      <td>{'svc__C': 100, 'svc__gamma': 0.01, 'svc__kern...</td>\n",
       "      <td>1.0</td>\n",
       "      <td>0.869565</td>\n",
       "      <td>0.954545</td>\n",
       "      <td>1.0</td>\n",
       "      <td>1.0</td>\n",
       "      <td>0.964822</td>\n",
       "      <td>0.050778</td>\n",
       "      <td>6</td>\n",
       "    </tr>\n",
       "    <tr>\n",
       "      <th>49</th>\n",
       "      <td>0.001995</td>\n",
       "      <td>0.000631</td>\n",
       "      <td>0.000399</td>\n",
       "      <td>0.000489</td>\n",
       "      <td>10</td>\n",
       "      <td>10</td>\n",
       "      <td>linear</td>\n",
       "      <td>{'svc__C': 10, 'svc__gamma': 10, 'svc__kernel'...</td>\n",
       "      <td>1.0</td>\n",
       "      <td>0.913043</td>\n",
       "      <td>0.909091</td>\n",
       "      <td>1.0</td>\n",
       "      <td>1.0</td>\n",
       "      <td>0.964427</td>\n",
       "      <td>0.043586</td>\n",
       "      <td>7</td>\n",
       "    </tr>\n",
       "    <tr>\n",
       "      <th>47</th>\n",
       "      <td>0.001795</td>\n",
       "      <td>0.000399</td>\n",
       "      <td>0.000399</td>\n",
       "      <td>0.000489</td>\n",
       "      <td>10</td>\n",
       "      <td>1</td>\n",
       "      <td>linear</td>\n",
       "      <td>{'svc__C': 10, 'svc__gamma': 1, 'svc__kernel':...</td>\n",
       "      <td>1.0</td>\n",
       "      <td>0.913043</td>\n",
       "      <td>0.909091</td>\n",
       "      <td>1.0</td>\n",
       "      <td>1.0</td>\n",
       "      <td>0.964427</td>\n",
       "      <td>0.043586</td>\n",
       "      <td>7</td>\n",
       "    </tr>\n",
       "    <tr>\n",
       "      <th>45</th>\n",
       "      <td>0.002194</td>\n",
       "      <td>0.000746</td>\n",
       "      <td>0.000000</td>\n",
       "      <td>0.000000</td>\n",
       "      <td>10</td>\n",
       "      <td>0.1</td>\n",
       "      <td>linear</td>\n",
       "      <td>{'svc__C': 10, 'svc__gamma': 0.1, 'svc__kernel...</td>\n",
       "      <td>1.0</td>\n",
       "      <td>0.913043</td>\n",
       "      <td>0.909091</td>\n",
       "      <td>1.0</td>\n",
       "      <td>1.0</td>\n",
       "      <td>0.964427</td>\n",
       "      <td>0.043586</td>\n",
       "      <td>7</td>\n",
       "    </tr>\n",
       "    <tr>\n",
       "      <th>41</th>\n",
       "      <td>0.001396</td>\n",
       "      <td>0.000489</td>\n",
       "      <td>0.000598</td>\n",
       "      <td>0.000489</td>\n",
       "      <td>10</td>\n",
       "      <td>0.001</td>\n",
       "      <td>linear</td>\n",
       "      <td>{'svc__C': 10, 'svc__gamma': 0.001, 'svc__kern...</td>\n",
       "      <td>1.0</td>\n",
       "      <td>0.913043</td>\n",
       "      <td>0.909091</td>\n",
       "      <td>1.0</td>\n",
       "      <td>1.0</td>\n",
       "      <td>0.964427</td>\n",
       "      <td>0.043586</td>\n",
       "      <td>7</td>\n",
       "    </tr>\n",
       "  </tbody>\n",
       "</table>\n",
       "</div>"
      ],
      "text/plain": [
       "    mean_fit_time  std_fit_time  mean_score_time  std_score_time param_svc__C  \\\n",
       "31       0.001596      0.000489         0.000399        0.000489            1   \n",
       "33       0.002194      0.000977         0.000599        0.000489            1   \n",
       "35       0.001396      0.000489         0.000598        0.000489            1   \n",
       "37       0.001997      0.000006         0.000199        0.000399            1   \n",
       "39       0.001197      0.000399         0.000399        0.000489            1   \n",
       "52       0.002194      0.000977         0.000399        0.000488          100   \n",
       "49       0.001995      0.000631         0.000399        0.000489           10   \n",
       "47       0.001795      0.000399         0.000399        0.000489           10   \n",
       "45       0.002194      0.000746         0.000000        0.000000           10   \n",
       "41       0.001396      0.000489         0.000598        0.000489           10   \n",
       "\n",
       "   param_svc__gamma param_svc__kernel  \\\n",
       "31            0.001            linear   \n",
       "33             0.01            linear   \n",
       "35              0.1            linear   \n",
       "37                1            linear   \n",
       "39               10            linear   \n",
       "52             0.01               rbf   \n",
       "49               10            linear   \n",
       "47                1            linear   \n",
       "45              0.1            linear   \n",
       "41            0.001            linear   \n",
       "\n",
       "                                               params  split0_test_score  \\\n",
       "31  {'svc__C': 1, 'svc__gamma': 0.001, 'svc__kerne...                1.0   \n",
       "33  {'svc__C': 1, 'svc__gamma': 0.01, 'svc__kernel...                1.0   \n",
       "35  {'svc__C': 1, 'svc__gamma': 0.1, 'svc__kernel'...                1.0   \n",
       "37  {'svc__C': 1, 'svc__gamma': 1, 'svc__kernel': ...                1.0   \n",
       "39  {'svc__C': 1, 'svc__gamma': 10, 'svc__kernel':...                1.0   \n",
       "52  {'svc__C': 100, 'svc__gamma': 0.01, 'svc__kern...                1.0   \n",
       "49  {'svc__C': 10, 'svc__gamma': 10, 'svc__kernel'...                1.0   \n",
       "47  {'svc__C': 10, 'svc__gamma': 1, 'svc__kernel':...                1.0   \n",
       "45  {'svc__C': 10, 'svc__gamma': 0.1, 'svc__kernel...                1.0   \n",
       "41  {'svc__C': 10, 'svc__gamma': 0.001, 'svc__kern...                1.0   \n",
       "\n",
       "    split1_test_score  split2_test_score  split3_test_score  \\\n",
       "31           0.913043           0.954545                1.0   \n",
       "33           0.913043           0.954545                1.0   \n",
       "35           0.913043           0.954545                1.0   \n",
       "37           0.913043           0.954545                1.0   \n",
       "39           0.913043           0.954545                1.0   \n",
       "52           0.869565           0.954545                1.0   \n",
       "49           0.913043           0.909091                1.0   \n",
       "47           0.913043           0.909091                1.0   \n",
       "45           0.913043           0.909091                1.0   \n",
       "41           0.913043           0.909091                1.0   \n",
       "\n",
       "    split4_test_score  mean_test_score  std_test_score  rank_test_score  \n",
       "31                1.0         0.973518        0.034989                1  \n",
       "33                1.0         0.973518        0.034989                1  \n",
       "35                1.0         0.973518        0.034989                1  \n",
       "37                1.0         0.973518        0.034989                1  \n",
       "39                1.0         0.973518        0.034989                1  \n",
       "52                1.0         0.964822        0.050778                6  \n",
       "49                1.0         0.964427        0.043586                7  \n",
       "47                1.0         0.964427        0.043586                7  \n",
       "45                1.0         0.964427        0.043586                7  \n",
       "41                1.0         0.964427        0.043586                7  "
      ]
     },
     "execution_count": 10,
     "metadata": {},
     "output_type": "execute_result"
    }
   ],
   "source": [
    "import pandas as pd\n",
    "df = pd.DataFrame(gs.cv_results_)\n",
    "df.sort_values('rank_test_score').head(10)"
   ]
  },
  {
   "cell_type": "markdown",
   "id": "c566d5c6",
   "metadata": {},
   "source": [
    "##### test set으로 최종 평가"
   ]
  },
  {
   "cell_type": "code",
   "execution_count": 13,
   "id": "f38b511d",
   "metadata": {
    "ExecuteTime": {
     "end_time": "2021-11-18T08:43:57.893281Z",
     "start_time": "2021-11-18T08:43:57.887297Z"
    }
   },
   "outputs": [
    {
     "data": {
      "text/plain": [
       "0.9473684210526315"
      ]
     },
     "execution_count": 13,
     "metadata": {},
     "output_type": "execute_result"
    }
   ],
   "source": [
    "pred_test = gs.predict(X_test)\n",
    "accuracy_score(y_test, pred_test)"
   ]
  }
 ],
 "metadata": {
  "kernelspec": {
   "display_name": "Python 3 (ipykernel)",
   "language": "python",
   "name": "python3"
  },
  "language_info": {
   "codemirror_mode": {
    "name": "ipython",
    "version": 3
   },
   "file_extension": ".py",
   "mimetype": "text/x-python",
   "name": "python",
   "nbconvert_exporter": "python",
   "pygments_lexer": "ipython3",
   "version": "3.8.12"
  },
  "toc": {
   "base_numbering": 1,
   "nav_menu": {},
   "number_sections": true,
   "sideBar": true,
   "skip_h1_title": false,
   "title_cell": "Table of Contents",
   "title_sidebar": "Contents",
   "toc_cell": false,
   "toc_position": {},
   "toc_section_display": true,
   "toc_window_display": false
  },
  "varInspector": {
   "cols": {
    "lenName": 16,
    "lenType": 16,
    "lenVar": 40
   },
   "kernels_config": {
    "python": {
     "delete_cmd_postfix": "",
     "delete_cmd_prefix": "del ",
     "library": "var_list.py",
     "varRefreshCmd": "print(var_dic_list())"
    },
    "r": {
     "delete_cmd_postfix": ") ",
     "delete_cmd_prefix": "rm(",
     "library": "var_list.r",
     "varRefreshCmd": "cat(var_dic_list()) "
    }
   },
   "types_to_exclude": [
    "module",
    "function",
    "builtin_function_or_method",
    "instance",
    "_Feature"
   ],
   "window_display": false
  }
 },
 "nbformat": 4,
 "nbformat_minor": 5
}
