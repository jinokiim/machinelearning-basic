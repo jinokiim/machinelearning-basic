{
 "cells": [
  {
   "cell_type": "markdown",
   "id": "4c153bb5",
   "metadata": {},
   "source": [
    "# breast_cancer data 모델링\n",
    "1. breast cancer data 로딩 및 \n",
    "1. train/test set으로 분리\n",
    "1. 모델링 (DecisionTreeClassifier(max_depth=3), RandomForestClassifier(max_depth=2, n_estimators=200)\n",
    "1. 평가 (Train/Test set)\n",
    "    - 평가지표\n",
    "        - accuracy, recall, precision, f1 score, confusion matrix\n",
    "        - PR curve 그리고 AP 점수 확인\n",
    "        - ROC curve 그리고 AUC 점수확인"
   ]
  },
  {
   "cell_type": "code",
   "execution_count": 29,
   "id": "cd9dbba9",
   "metadata": {
    "ExecuteTime": {
     "end_time": "2021-11-16T01:49:56.799343Z",
     "start_time": "2021-11-16T01:49:56.784384Z"
    }
   },
   "outputs": [],
   "source": [
    "from sklearn.datasets import load_breast_cancer\n",
    "from sklearn.model_selection import train_test_split\n",
    "from sklearn.tree import DecisionTreeClassifier\n",
    "from sklearn.ensemble import RandomForestClassifier\n",
    "from sklearn.metrics import accuracy_score, recall_score, precision_score, f1_score, \\\n",
    "                            confusion_matrix, ConfusionMatrixDisplay, precision_recall_curve,\\\n",
    "                            PrecisionRecallDisplay, roc_curve, RocCurveDisplay, \\\n",
    "                            average_precision_score, roc_auc_score\n",
    "import matplotlib.pyplot as plt\n"
   ]
  },
  {
   "cell_type": "code",
   "execution_count": 5,
   "id": "9744de0f",
   "metadata": {
    "ExecuteTime": {
     "end_time": "2021-11-16T01:14:33.808126Z",
     "start_time": "2021-11-16T01:14:33.775590Z"
    }
   },
   "outputs": [
    {
     "data": {
      "text/plain": [
       "((455, 30), (114, 30))"
      ]
     },
     "execution_count": 5,
     "metadata": {},
     "output_type": "execute_result"
    }
   ],
   "source": [
    "# data load, 나누기\n",
    "X, y = load_breast_cancer(return_X_y=True)\n",
    "\n",
    "X_train, X_test, y_train, y_test = train_test_split(X, y, test_size=0.2, stratify=y,\n",
    "                                                   random_state=0)\n",
    "\n",
    "X_train.shape, X_test.shape"
   ]
  },
  {
   "cell_type": "code",
   "execution_count": 7,
   "id": "92d86a17",
   "metadata": {
    "ExecuteTime": {
     "end_time": "2021-11-16T01:15:58.311037Z",
     "start_time": "2021-11-16T01:15:58.304074Z"
    }
   },
   "outputs": [
    {
     "data": {
      "text/plain": [
       "array([0.37258348, 0.62741652])"
      ]
     },
     "execution_count": 7,
     "metadata": {},
     "output_type": "execute_result"
    }
   ],
   "source": [
    "# y class 분포\n",
    "np.unique(y, return_counts=True)\n",
    "np.unique(y, return_counts=True)[1]/y.size"
   ]
  },
  {
   "cell_type": "code",
   "execution_count": 9,
   "id": "e996e66a",
   "metadata": {
    "ExecuteTime": {
     "end_time": "2021-11-16T01:17:59.451397Z",
     "start_time": "2021-11-16T01:17:59.232162Z"
    }
   },
   "outputs": [
    {
     "data": {
      "text/plain": [
       "RandomForestClassifier(max_depth=2, n_estimators=200, random_state=0)"
      ]
     },
     "execution_count": 9,
     "metadata": {},
     "output_type": "execute_result"
    }
   ],
   "source": [
    "# 모델 생성, 학습\n",
    "tree = DecisionTreeClassifier(max_depth=3, random_state=0)\n",
    "rf = RandomForestClassifier(max_depth=2, n_estimators=200, random_state=0)\n",
    "\n",
    "tree.fit(X_train, y_train)\n",
    "rf.fit(X_train, y_train)"
   ]
  },
  {
   "cell_type": "code",
   "execution_count": 17,
   "id": "75bf7d0c",
   "metadata": {
    "ExecuteTime": {
     "end_time": "2021-11-16T01:33:42.626191Z",
     "start_time": "2021-11-16T01:33:42.544516Z"
    }
   },
   "outputs": [],
   "source": [
    "# 추론\n",
    "\n",
    "# tree\n",
    "pred_train_tree = tree.predict(X_train)   # 최종 class를 예측\n",
    "pred_test_tree = tree.predict(X_test)\n",
    "pred_train_prob_tree = tree.predict_proba(X_train)[:, 1]  # positive(1)의 확률 예측\n",
    "pred_test_prob_tree = tree.predict_proba(X_test)[:, 1]\n",
    "\n",
    "#rf\n",
    "pred_train_rf = rf.predict(X_train)\n",
    "pred_test_rf = rf.predict(X_test)\n",
    "pred_train_prob_rf = rf.predict_proba(X_train)[:, 1]\n",
    "pred_test_prob_rf = rf.predict_proba(X_test)[:, 1]"
   ]
  },
  {
   "cell_type": "code",
   "execution_count": 14,
   "id": "7eed5edf",
   "metadata": {
    "ExecuteTime": {
     "end_time": "2021-11-16T01:31:41.442333Z",
     "start_time": "2021-11-16T01:31:41.424381Z"
    }
   },
   "outputs": [],
   "source": [
    "def print_metrics(y, pred, pred_prob, title):\n",
    "    \"\"\"\n",
    "    분류 평가 출력 함수\n",
    "    [parameter]\n",
    "        y: ndarray - 정답\n",
    "        pred: ndarray - 예측 class\n",
    "        pred_prob: ndarray - 예측 양성 확률\n",
    "        title: str - 제목\n",
    "    \"\"\"\n",
    "    print(title)\n",
    "    print('정확도(accuracy): ', accuracy_score(y, pred))\n",
    "    print('재현율(recall): ', recall_score(y, pred))\n",
    "    print('정밀도(precision): ', precision_score(y, pred))\n",
    "    print('F1 점수(F1 score): ', f1_score(y, pred))\n",
    "    \n",
    "    print('AP 점수: ', average_precision_score(y, pred_prob))\n",
    "    print('AUC 점수: ', roc_auc_score(y, pred_prob))"
   ]
  },
  {
   "cell_type": "code",
   "execution_count": 15,
   "id": "fafe3b0d",
   "metadata": {
    "ExecuteTime": {
     "end_time": "2021-11-16T01:31:44.671342Z",
     "start_time": "2021-11-16T01:31:44.656411Z"
    }
   },
   "outputs": [
    {
     "name": "stdout",
     "output_type": "stream",
     "text": [
      "DecisionTree Train set\n",
      "정확도(accuracy):  0.9736263736263736\n",
      "재현율(recall):  0.9964912280701754\n",
      "정밀도(precision):  0.9627118644067797\n",
      "F1 점수(F1 score):  0.9793103448275863\n",
      "AP 점수:  0.9842102478389377\n",
      "AUC 점수:  0.9863261093911249\n"
     ]
    }
   ],
   "source": [
    "# Tree - Train\n",
    "print_metrics(y_train, pred_train_tree, pred_train_prob_tree, \"DecisionTree Train set\")"
   ]
  },
  {
   "cell_type": "code",
   "execution_count": 16,
   "id": "752fb60c",
   "metadata": {
    "ExecuteTime": {
     "end_time": "2021-11-16T01:32:24.713325Z",
     "start_time": "2021-11-16T01:32:24.704382Z"
    }
   },
   "outputs": [
    {
     "name": "stdout",
     "output_type": "stream",
     "text": [
      "DecisionTree Test set\n",
      "정확도(accuracy):  0.9210526315789473\n",
      "재현율(recall):  0.9305555555555556\n",
      "정밀도(precision):  0.9436619718309859\n",
      "F1 점수(F1 score):  0.9370629370629372\n",
      "AP 점수:  0.9508563971094506\n",
      "AUC 점수:  0.9446097883597883\n"
     ]
    }
   ],
   "source": [
    "# Tree - Test\n",
    "print_metrics(y_test, pred_test_tree, pred_test_prob_tree, \"DecisionTree Test set\")"
   ]
  },
  {
   "cell_type": "code",
   "execution_count": 18,
   "id": "f4c9b45e",
   "metadata": {
    "ExecuteTime": {
     "end_time": "2021-11-16T01:34:03.307676Z",
     "start_time": "2021-11-16T01:34:03.296708Z"
    }
   },
   "outputs": [
    {
     "name": "stdout",
     "output_type": "stream",
     "text": [
      "RandomForest Train set\n",
      "정확도(accuracy):  0.9692307692307692\n",
      "재현율(recall):  0.9859649122807017\n",
      "정밀도(precision):  0.9656357388316151\n",
      "F1 점수(F1 score):  0.9756944444444443\n",
      "AP 점수:  0.9973840556546545\n",
      "AUC 점수:  0.9957481940144479\n"
     ]
    }
   ],
   "source": [
    "# RandomForest - Train\n",
    "print_metrics(y_train, pred_train_rf, pred_train_prob_rf, \"RandomForest Train set\")"
   ]
  },
  {
   "cell_type": "code",
   "execution_count": 19,
   "id": "9617435d",
   "metadata": {
    "ExecuteTime": {
     "end_time": "2021-11-16T01:34:21.812167Z",
     "start_time": "2021-11-16T01:34:21.793217Z"
    }
   },
   "outputs": [
    {
     "name": "stdout",
     "output_type": "stream",
     "text": [
      "RandomForest Test set\n",
      "정확도(accuracy):  0.9385964912280702\n",
      "재현율(recall):  0.9444444444444444\n",
      "정밀도(precision):  0.9577464788732394\n",
      "F1 점수(F1 score):  0.951048951048951\n",
      "AP 점수:  0.977122126791544\n",
      "AUC 점수:  0.9718915343915344\n"
     ]
    }
   ],
   "source": [
    "# RandomForest - Test\n",
    "print_metrics(y_test, pred_test_rf, pred_test_prob_rf, \"RandomForest Test set\")"
   ]
  },
  {
   "cell_type": "code",
   "execution_count": 20,
   "id": "0098c6f3",
   "metadata": {
    "ExecuteTime": {
     "end_time": "2021-11-16T01:37:30.185883Z",
     "start_time": "2021-11-16T01:37:30.176936Z"
    }
   },
   "outputs": [
    {
     "data": {
      "text/plain": [
       "array([[159,  11],\n",
       "       [  1, 284]], dtype=int64)"
      ]
     },
     "execution_count": 20,
     "metadata": {},
     "output_type": "execute_result"
    }
   ],
   "source": [
    "# Confusion Matrix\n",
    "confusion_matrix(y_train, pred_train_tree)"
   ]
  },
  {
   "cell_type": "code",
   "execution_count": 21,
   "id": "22f191f9",
   "metadata": {
    "ExecuteTime": {
     "end_time": "2021-11-16T01:38:37.263807Z",
     "start_time": "2021-11-16T01:38:37.248185Z"
    }
   },
   "outputs": [],
   "source": [
    "def display_confusion_matrix(y, pred, title):\n",
    "    \"\"\"confusion matrix 시각화\"\"\"\n",
    "    cm = confusion_matrix(y, pred)\n",
    "    disp = ConfusionMatrixDisplay(cm)\n",
    "    disp.plot(cmap='Blues')"
   ]
  },
  {
   "cell_type": "code",
   "execution_count": 22,
   "id": "7eb825cc",
   "metadata": {
    "ExecuteTime": {
     "end_time": "2021-11-16T01:39:45.390282Z",
     "start_time": "2021-11-16T01:39:44.431979Z"
    }
   },
   "outputs": [
    {
     "data": {
      "image/png": "[encoded data removed]",
      "text/plain": [
       "<Figure size 432x288 with 2 Axes>"
      ]
     },
     "metadata": {
      "needs_background": "light"
     },
     "output_type": "display_data"
    }
   ],
   "source": [
    "# Tree, Trainset\n",
    "display_confusion_matrix(y_train, pred_train_tree, \"DecsionTree-Trainset\")"
   ]
  },
  {
   "cell_type": "code",
   "execution_count": 23,
   "id": "ca66bf2a",
   "metadata": {
    "ExecuteTime": {
     "end_time": "2021-11-16T01:46:02.761921Z",
     "start_time": "2021-11-16T01:46:02.743961Z"
    }
   },
   "outputs": [],
   "source": [
    "# Precision Recall curve\n",
    "def display_pr_curve(y, pred_prob, title):\n",
    "    \"\"\"precision recall curve 시각화\"\"\"\n",
    "    precision, recall, _ = precision_recall_curve(y, pred_prob)\n",
    "    ap_score = average_precision_score(y, pred_prob)\n",
    "    disp = PrecisionRecallDisplay(precision, recall, average_precision=ap_score)\n",
    "    disp.plot()\n",
    "    plt.title(title)\n",
    "    plt.grid(True)"
   ]
  },
  {
   "cell_type": "code",
   "execution_count": 30,
   "id": "f76403f2",
   "metadata": {
    "ExecuteTime": {
     "end_time": "2021-11-16T01:50:04.485568Z",
     "start_time": "2021-11-16T01:50:04.368864Z"
    }
   },
   "outputs": [
    {
     "data": {
      "image/png": "[encoded data removed]",
      "text/plain": [
       "<Figure size 432x288 with 1 Axes>"
      ]
     },
     "metadata": {
      "needs_background": "light"
     },
     "output_type": "display_data"
    }
   ],
   "source": [
    "display_pr_curve(y_train, pred_train_prob_tree, \"DecisionTree Trainset\")"
   ]
  },
  {
   "cell_type": "code",
   "execution_count": 31,
   "id": "c6d11c85",
   "metadata": {
    "ExecuteTime": {
     "end_time": "2021-11-16T01:50:05.701971Z",
     "start_time": "2021-11-16T01:50:05.697014Z"
    }
   },
   "outputs": [],
   "source": [
    "def display_roc_curve(y, pred_prob, title):\n",
    "    fpr, tpr, _ = roc_curve(y, pred_prob)\n",
    "    auc_score = roc_auc_score(y, pred_prob)\n",
    "    disp = RocCurveDisplay(fpr=fpr, tpr=tpr, roc_auc=auc_score)\n",
    "    disp.plot()\n",
    "    plt.title(title)"
   ]
  },
  {
   "cell_type": "code",
   "execution_count": 32,
   "id": "4648d866",
   "metadata": {
    "ExecuteTime": {
     "end_time": "2021-11-16T01:50:06.252242Z",
     "start_time": "2021-11-16T01:50:06.144746Z"
    }
   },
   "outputs": [
    {
     "data": {
      "image/png": "[encoded data removed]",
      "text/plain": [
       "<Figure size 432x288 with 1 Axes>"
      ]
     },
     "metadata": {
      "needs_background": "light"
     },
     "output_type": "display_data"
    }
   ],
   "source": [
    "display_roc_curve(y_train, pred_train_prob_tree, \"DecisionTree trainset\")"
   ]
  }
 ],
 "metadata": {
  "kernelspec": {
   "display_name": "Python 3 (ipykernel)",
   "language": "python",
   "name": "python3"
  },
  "language_info": {
   "codemirror_mode": {
    "name": "ipython",
    "version": 3
   },
   "file_extension": ".py",
   "mimetype": "text/x-python",
   "name": "python",
   "nbconvert_exporter": "python",
   "pygments_lexer": "ipython3",
   "version": "3.9.7"
  },
  "toc": {
   "base_numbering": 1,
   "nav_menu": {},
   "number_sections": true,
   "sideBar": true,
   "skip_h1_title": false,
   "title_cell": "Table of Contents",
   "title_sidebar": "Contents",
   "toc_cell": false,
   "toc_position": {},
   "toc_section_display": true,
   "toc_window_display": false
  },
  "varInspector": {
   "cols": {
    "lenName": 16,
    "lenType": 16,
    "lenVar": 40
   },
   "kernels_config": {
    "python": {
     "delete_cmd_postfix": "",
     "delete_cmd_prefix": "del ",
     "library": "var_list.py",
     "varRefreshCmd": "print(var_dic_list())"
    },
    "r": {
     "delete_cmd_postfix": ") ",
     "delete_cmd_prefix": "rm(",
     "library": "var_list.r",
     "varRefreshCmd": "cat(var_dic_list()) "
    }
   },
   "types_to_exclude": [
    "module",
    "function",
    "builtin_function_or_method",
    "instance",
    "_Feature"
   ],
   "window_display": false
  }
 },
 "nbformat": 4,
 "nbformat_minor": 5
}
